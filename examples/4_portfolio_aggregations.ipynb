{
 "cells": [
  {
   "cell_type": "markdown",
   "metadata": {},
   "source": [
    "# SBTi-Finance Tool - Portfolio Aggregation\n",
    "In this notebook we'll give some examples on how the portfolio aggregation methods can be used.\n",
    "\n",
    "Please see the [methodology](https://sciencebasedtargets.org/wp-content/uploads/2020/09/Temperature-Rating-Methodology-V1.pdf), [guidance](https://sciencebasedtargets.org/wp-content/uploads/2020/10/Financial-Sector-Science-Based-Targets-Guidance-Pilot-Version.pdf) and the [technical documentation](https://sciencebasedtargets.github.io/SBTi-finance-tool/)  for more details on the different aggregation methods.\n",
    "\n",
    "See 1_analysis_example (on [Colab](https://colab.research.google.com/github/ScienceBasedTargets/SBTi-finance-tool/blob/main/examples/1_analysis_example.ipynb) or [Github](https://github.com/ScienceBasedTargets/SBTi-finance-tool/blob/main/examples/1_analysis_example.ipynb)) for more in depth example of how to work with Jupyter Notebooks in general and SBTi notebooks in particular. \n"
   ]
  },
  {
   "cell_type": "markdown",
   "metadata": {},
   "source": [
    "## Setting up\n",
    "First we will set up the imports, data providers, and load the portfolio. \n",
    "\n",
    "For more examples of this process, please refer to notebook 1 & 2 (analysis and quick calculation example).\n"
   ]
  },
  {
   "cell_type": "code",
   "execution_count": null,
   "metadata": {},
   "outputs": [],
   "source": [
    "%pip install sbti-finance-tool"
   ]
  },
  {
   "cell_type": "code",
   "execution_count": null,
   "metadata": {},
   "outputs": [],
   "source": [
    "%load_ext autoreload\n",
    "%autoreload 2\n",
    "import SBTi\n",
    "from SBTi.data.excel import ExcelProvider\n",
    "from SBTi.portfolio_aggregation import PortfolioAggregationMethod\n",
    "from SBTi.portfolio_coverage_tvp import PortfolioCoverageTVP\n",
    "from SBTi.temperature_score import TemperatureScore, Scenario, ScenarioType, EngagementType\n",
    "from SBTi.target_validation import TargetProtocol\n",
    "from SBTi.interfaces import ETimeFrames, EScope\n",
    "%aimport -pandas\n",
    "import pandas as pd"
   ]
  },
  {
   "cell_type": "code",
   "execution_count": null,
   "metadata": {},
   "outputs": [],
   "source": [
    "# Download the dummy data\n",
    "import urllib.request\n",
    "import os\n",
    "\n",
    "if not os.path.isdir(\"data\"):\n",
    "    os.mkdir(\"data\")\n",
    "if not os.path.isfile(\"data/data_provider_example.xlsx\"):\n",
    "    urllib.request.urlretrieve(\"https://github.com/ScienceBasedTargets/SBTi-finance-tool/raw/main/examples/data/data_provider_example.xlsx\", \"data/data_provider_example.xlsx\")\n",
    "if not os.path.isfile(\"data/example_portfolio.csv\"):\n",
    "    urllib.request.urlretrieve(\"https://github.com/ScienceBasedTargets/SBTi-finance-tool/raw/main/examples/data/example_portfolio.csv\", \"data/example_portfolio.csv\")\n"
   ]
  },
  {
   "cell_type": "code",
   "execution_count": null,
   "metadata": {},
   "outputs": [],
   "source": [
    "provider = ExcelProvider(path=\"data/data_provider_example.xlsx\")\n",
    "df_portfolio = pd.read_csv(\"data/example_portfolio.csv\", encoding=\"iso-8859-1\")\n",
    "\n",
    "# Print original columns to diagnose\n",
    "print(\"Original columns:\", df_portfolio.columns.tolist())\n",
    "\n",
    "# Create a more cautious renaming dictionary based on what columns exist\n",
    "rename_dict = {}\n",
    "if \"Company Name\" in df_portfolio.columns:\n",
    "    rename_dict[\"Company Name\"] = \"company_name\"\n",
    "if \"ISIN\" in df_portfolio.columns:\n",
    "    rename_dict[\"ISIN\"] = \"isin\" \n",
    "if \"LEI\" in df_portfolio.columns:\n",
    "    rename_dict[\"LEI\"] = \"lei\"\n",
    "if \"Sector\" in df_portfolio.columns:\n",
    "    rename_dict[\"Sector\"] = \"sector\"\n",
    "if \"Target\" in df_portfolio.columns:\n",
    "    rename_dict[\"Target\"] = \"full_target_language\"\n",
    "if \"Net-Zero Committed\" in df_portfolio.columns:\n",
    "    rename_dict[\"Net-Zero Committed\"] = \"net_zero_status\"\n",
    "if \"Near term - Target Status\" in df_portfolio.columns:\n",
    "    rename_dict[\"Near term - Target Status\"] = \"near_term_status\"\n",
    "if \"Target Classification\" in df_portfolio.columns:\n",
    "    rename_dict[\"Target Classification\"] = \"target_classification_long\"\n",
    "if \"Extension\" in df_portfolio.columns:\n",
    "    rename_dict[\"Extension\"] = \"reason_for_extension_or_removal\"\n",
    "if \"Date\" in df_portfolio.columns:\n",
    "    rename_dict[\"Date\"] = \"date_updated\"\n",
    "\n",
    "# Apply column renaming\n",
    "df_portfolio = df_portfolio.rename(columns=rename_dict)\n",
    "\n",
    "# Handle legacy column names if they exist\n",
    "if 'company_isin' in df_portfolio.columns:\n",
    "    df_portfolio.rename(columns={'company_isin': 'isin'}, inplace=True)\n",
    "if 'company_lei' in df_portfolio.columns:\n",
    "    df_portfolio.rename(columns={'company_lei': 'lei'}, inplace=True)\n",
    "\n",
    "# Ensure required columns exist\n",
    "required_columns = ['company_id', 'company_name', 'isin', 'lei', 'investment_value']\n",
    "for col in required_columns:\n",
    "    if col not in df_portfolio.columns:\n",
    "        df_portfolio[col] = None\n",
    "\n",
    "# Convert identifiers to string\n",
    "if 'isin' in df_portfolio.columns:\n",
    "    df_portfolio['isin'] = df_portfolio['isin'].astype(str)\n",
    "if 'lei' in df_portfolio.columns:\n",
    "    df_portfolio['lei'] = df_portfolio['lei'].astype(str)\n",
    "\n",
    "# Check for duplicate values in the 'company_id' column\n",
    "duplicate_ids = df_portfolio[df_portfolio.duplicated('company_id', keep=False)]\n",
    "if not duplicate_ids.empty:\n",
    "    print(\"Error: Duplicate values found in the 'company_id' column:\")\n",
    "    print(duplicate_ids)\n",
    "else:\n",
    "    print(\"No duplicate values found in the 'company_id' column.\")\n",
    "\n",
    "# Display final columns to verify\n",
    "print(\"Final columns:\", df_portfolio.columns.tolist())\n",
    "\n",
    "# Convert to portfolio objects and get data\n",
    "companies = SBTi.utils.dataframe_to_portfolio(df_portfolio)\n",
    "try:\n",
    "    portfolio_data = SBTi.utils.get_data([provider], companies)\n",
    "    scenarios = {}\n",
    "    print(\"Successfully loaded portfolio data\")\n",
    "except Exception as e:\n",
    "    print(f\"Error loading portfolio data: {str(e)}\")\n",
    "    # Add more error handling if needed\n",
    "    import traceback\n",
    "    traceback.print_exc()"
   ]
  },
  {
   "cell_type": "code",
   "execution_count": null,
   "metadata": {},
   "outputs": [],
   "source": [
    "temperature_score = TemperatureScore(time_frames=list(SBTi.interfaces.ETimeFrames), scopes=[EScope.S1S2, EScope.S3, EScope.S1S2S3])\n",
    "amended_portfolio = temperature_score.calculate(data_providers=[provider], portfolio=companies)"
   ]
  },
  {
   "cell_type": "markdown",
   "metadata": {},
   "source": [
    "## Calculate the aggregated temperature score\n",
    "Calculate an aggregated temperature score. This can be done using different aggregation methods. The termperature scores are calculated per time-frame/scope combination."
   ]
  },
  {
   "cell_type": "markdown",
   "metadata": {
    "pycharm": {
     "name": "#%% md\n"
    }
   },
   "source": [
    "### WATS\n",
    "Weighted Average Temperature Score (WATS): Temperature scores are allocated based on portfolio weights.\n",
    "This method uses the \"investment_value\" field to be defined in your portfolio data."
   ]
  },
  {
   "cell_type": "code",
   "execution_count": null,
   "metadata": {
    "pycharm": {
     "name": "#%%\n"
    }
   },
   "outputs": [],
   "source": [
    "temperature_score.aggregation_method = PortfolioAggregationMethod.WATS\n",
    "aggregated_scores = temperature_score.aggregate_scores(amended_portfolio)\n",
    "df_wats = pd.DataFrame(aggregated_scores.dict()).applymap(lambda x: round(x['all']['score'], 2))\n",
    "scores_collection.update({'WATS': df_wats})\n",
    "df_wats"
   ]
  },
  {
   "cell_type": "markdown",
   "metadata": {
    "pycharm": {
     "name": "#%% md\n"
    }
   },
   "source": [
    "### TETS\n",
    "Total emissions weighted temperature score (TETS): Temperature scores are allocated based on historical emission weights using total company emissions. \n",
    "In addition to the portfolios \"investment value\" the TETS method requires company emissions, please refer to [Data Legends - Fundamental Data](https://ofbdabv.github.io/SBTi/Legends.html#fundamental-data) for more details"
   ]
  },
  {
   "cell_type": "code",
   "execution_count": null,
   "metadata": {
    "pycharm": {
     "name": "#%%\n"
    }
   },
   "outputs": [],
   "source": [
    "temperature_score.aggregation_method = PortfolioAggregationMethod.TETS\n",
    "aggregated_scores = temperature_score.aggregate_scores(amended_portfolio)\n",
    "df_tets = pd.DataFrame(aggregated_scores.dict()).applymap(lambda x: round(x['all']['score'], 2))\n",
    "scores_collection.update({'TETS': df_tets})\n",
    "df_tets"
   ]
  },
  {
   "cell_type": "markdown",
   "metadata": {
    "pycharm": {
     "name": "#%% md\n"
    }
   },
   "source": [
    "### MOTS\n",
    "Market Owned emissions weighted temperature score (MOTS): Temperature scores are allocated based on an equity ownership approach.\n",
    "In addition to the portfolios \"investment value\" the MOTS method requires company emissions and market cap, please refer to  [Data Legends - Fundamental Data](https://ofbdabv.github.io/SBTi/Legends.html#fundamental-data) for more details"
   ]
  },
  {
   "cell_type": "code",
   "execution_count": null,
   "metadata": {
    "pycharm": {
     "name": "#%%\n"
    }
   },
   "outputs": [],
   "source": [
    "temperature_score.aggregation_method = PortfolioAggregationMethod.MOTS\n",
    "aggregated_scores = temperature_score.aggregate_scores(amended_portfolio)\n",
    "df_mots = pd.DataFrame(aggregated_scores.dict()).applymap(lambda x: round(x['all']['score'], 2))\n",
    "scores_collection.update({'MOTS': df_mots})\n",
    "df_mots"
   ]
  },
  {
   "cell_type": "markdown",
   "metadata": {
    "pycharm": {
     "name": "#%% md\n"
    }
   },
   "source": [
    "### EOTS\n",
    "Enterprise Owned emissions weighted temperature score (EOTS): Temperature scores are allocated based\n",
    "on an enterprise ownership approach. \n",
    "In addition to the portfolios \"investment value\" the EOTS method requires company emissions and enterprise value, please refer to  [Data Legends - Fundamental Data](https://ofbdabv.github.io/SBTi/Legends.html#fundamental-data) for more details"
   ]
  },
  {
   "cell_type": "code",
   "execution_count": null,
   "metadata": {
    "pycharm": {
     "name": "#%%\n"
    }
   },
   "outputs": [],
   "source": [
    "temperature_score.aggregation_method = PortfolioAggregationMethod.EOTS\n",
    "aggregated_scores = temperature_score.aggregate_scores(amended_portfolio)\n",
    "df_eots = pd.DataFrame(aggregated_scores.dict()).applymap(lambda x: round(x['all']['score'], 2))\n",
    "scores_collection.update({'EOTS': df_eots})\n",
    "df_eots"
   ]
  },
  {
   "cell_type": "markdown",
   "metadata": {
    "pycharm": {
     "name": "#%% md\n"
    }
   },
   "source": [
    "### ECOTS\n",
    "Enterprise Value + Cash emissions weighted temperature score (ECOTS): Temperature scores are allocated based on an enterprise value (EV) plus cash & equivalents ownership approach. \n",
    "In addition to the portfolios \"investment value\" the ECOTS method requires company emissions, company cash equivalents and enterprise value; please refer to  [Data Legends - Fundamental Data](https://sciencebasedtargets.github.io/SBTi-finance-tool/Legends.html#fundamental-data) for more details"
   ]
  },
  {
   "cell_type": "code",
   "execution_count": null,
   "metadata": {
    "pycharm": {
     "name": "#%%\n"
    }
   },
   "outputs": [],
   "source": [
    "temperature_score.aggregation_method = PortfolioAggregationMethod.ECOTS\n",
    "aggregated_scores = temperature_score.aggregate_scores(amended_portfolio)\n",
    "df_ecots = pd.DataFrame(aggregated_scores.dict()).applymap(lambda x: round(x['all']['score'], 2))\n",
    "scores_collection.update({'ECOTS': df_ecots})\n",
    "df_ecots"
   ]
  },
  {
   "cell_type": "markdown",
   "metadata": {
    "pycharm": {
     "name": "#%% md\n"
    }
   },
   "source": [
    "### AOTS\n",
    "Total Assets emissions weighted temperature score (AOTS): Temperature scores are allocated based on a total assets ownership approach. \n",
    "In addition to the portfolios \"investment value\" the AOTS method requires company emissions and company total assets; please refer to  [Data Legends - Fundamental Data](https://sciencebasedtargets.github.io/SBTi-finance-tool/Legends.html#fundamental-data) for more details"
   ]
  },
  {
   "cell_type": "code",
   "execution_count": null,
   "metadata": {
    "pycharm": {
     "name": "#%%\n"
    }
   },
   "outputs": [],
   "source": [
    "temperature_score.aggregation_method = PortfolioAggregationMethod.AOTS\n",
    "aggregated_scores = temperature_score.aggregate_scores(amended_portfolio)\n",
    "df_aots = pd.DataFrame(aggregated_scores.dict()).applymap(lambda x: round(x['all']['score'], 2))\n",
    "scores_collection.update({'AOTS': df_aots})\n",
    "df_aots"
   ]
  },
  {
   "cell_type": "markdown",
   "metadata": {
    "pycharm": {
     "name": "#%% md\n"
    }
   },
   "source": [
    "### ROTS\n",
    "Revenue owned emissions weighted temperature score (ROTS): Temperature scores are allocated based on the share of revenue.\n",
    "In addition to the portfolios \"investment value\" the ROTS method requires company emissions and company revenue; please refer to  [Data Legends - Fundamental Data](https://sciencebasedtargets.github.io/SBTi-finance-tool/Legends.html#fundamental-data) for more details"
   ]
  },
  {
   "cell_type": "code",
   "execution_count": null,
   "metadata": {
    "pycharm": {
     "name": "#%%\n"
    }
   },
   "outputs": [],
   "source": [
    "temperature_score.aggregation_method = PortfolioAggregationMethod.ROTS\n",
    "aggregated_scores = temperature_score.aggregate_scores(amended_portfolio)\n",
    "df_rots = pd.DataFrame(aggregated_scores.dict()).applymap(lambda x: round(x['all']['score'], 2))\n",
    "scores_collection.update({'ROTS': df_rots})\n",
    "df_rots"
   ]
  },
  {
   "cell_type": "markdown",
   "metadata": {
    "pycharm": {
     "name": "#%% md\n"
    }
   },
   "source": [
    "See below how each aggregation method impact the scores on for each time frame and scope combination"
   ]
  },
  {
   "cell_type": "code",
   "execution_count": null,
   "metadata": {
    "pycharm": {
     "name": "#%%\n"
    }
   },
   "outputs": [],
   "source": [
    "pd.concat(scores_collection, axis=0)"
   ]
  }
 ],
 "metadata": {
  "kernelspec": {
   "display_name": "base",
   "language": "python",
   "name": "python3"
  },
  "language_info": {
   "codemirror_mode": {
    "name": "ipython",
    "version": 3
   },
   "file_extension": ".py",
   "mimetype": "text/x-python",
   "name": "python",
   "nbconvert_exporter": "python",
   "pygments_lexer": "ipython3",
   "version": "3.12.7"
  },
  "pycharm": {
   "stem_cell": {
    "cell_type": "raw",
    "metadata": {
     "collapsed": false
    },
    "source": []
   }
  }
 },
 "nbformat": 4,
 "nbformat_minor": 4
}
