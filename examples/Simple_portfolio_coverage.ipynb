{
 "cells": [
  {
   "cell_type": "markdown",
   "id": "3d7848b6",
   "metadata": {},
   "source": [
    "# SBTi-Finance Tool - Calculate portfolio coverage\n",
    "This notebook provides a simple way to calculate portfolio coverage with a cut-off date specified by the user. The intention is to allow the SBTi TVT as well as financial institutions to calculate the portfolio coverage at a date in the past corresponding to a base date or base year for the FI's portfolio target.\n",
    "\n",
    "This notebook currently only supports aggregation via the WATS method.\n",
    "\n",
    "This notebook does not calculate any temperature scores.\n",
    "\n",
    "### Install the necessary Python modules\n",
    "This is only required if you have not already installed the module."
   ]
  },
  {
   "cell_type": "code",
   "execution_count": null,
   "id": "94cea97d",
   "metadata": {},
   "outputs": [],
   "source": [
    "# Ensure required packages are installed\n",
    "import pandas as pd\n",
    "import openpyxl\n",
    "import requests\n",
    "from datetime import datetime\n",
    "import re\n",
    "from difflib import SequenceMatcher"
   ]
  },
  {
   "cell_type": "markdown",
   "id": "27951a88",
   "metadata": {},
   "source": [
    "## Create the data directory and download the example portfolio\n",
    "We have prepared dummy data for you to be able to run the tool as it is to familiarise yourself with how it works. To use your own data; please check out to the [Data Requirements section](https://sciencebasedtargets.github.io/SBTi-finance-tool/DataRequirements.html) of the technical documentation for more details on data requirements and formatting. \n",
    "\n",
    "*The dummy data may include some company names, but the data associated with those company names is completely random and any similarities with real world data is purely coincidental."
   ]
  },
  {
   "cell_type": "code",
   "execution_count": null,
   "id": "f3be5a39",
   "metadata": {},
   "outputs": [],
   "source": [
    "import urllib.request\n",
    "import os\n",
    "\n",
    "if not os.path.isdir(\"data\"):\n",
    "    os.mkdir(\"data\")\n",
    "if not os.path.isfile(\"data/example_portfolio.csv\"):\n",
    "    urllib.request.urlretrieve(\"https://github.com/ScienceBasedTargets/SBTi-finance-tool/raw/main/examples/data/example_portfolio.csv\", \"data/example_portfolio.csv\")"
   ]
  },
  {
   "cell_type": "markdown",
   "id": "26e2984b",
   "metadata": {},
   "source": [
    "## Load your portfolio\n",
    "The example portfolio is stored as a .csv file. Alternatively, you can upload an .xlsx file, just choose one of the loading options below.\n",
    "\n",
    "You can upload your portfolio file using the folder icon on the left hand side of the screen. Once you have uploaded your file, you can load it into the notebook using the code below.\n",
    "\n",
    "The portfolio should at least have an \"id\" (the identifier of the company) and a \"proportion\" (the weight of the company in your portfolio e.g. the value of the shares you hold) column. To calculate the weighted portfolio coverage the data also needs to include identifers for the portfolios constituents, preferably LEI, but ISIN and exact matching entity names are recognized by the SBTi data.\n",
    "The following column names headers are required to upload the file to the tool, please note the the tool will not run unless these exact headers are included:\n",
    "\n",
    "company_name: Name of the company in your portfolio - each row must have a unique name  \n",
    "company_id : Unique identifier for the company in your portfolio  \n",
    "isin : The ISIN of the company in your portfolio, used to identify the company e.g. for SBTi status *  \n",
    "lei : Legal Entity Identifier for the company in your portfolio, used identify the company e.g. for SBTi status *  \n",
    "investment_value: Needed to weight the portfolio coverage by the value of the investment in the company  \n",
    "target: Not needed for the tool to run but is included to be compatible with the finance tool portfolio format, used to reference if any company with LEI, ISIN, or exact matching name from the SBTi Companies Taking Action table\n",
    "\n",
    "\\* These rows may be left blank but are needed to check the SBTi status of the company. If you do not have this data, please leave the rows blank and the tool will still run, but the SBTi status will not be included in the output.\n",
    "\n",
    "Please see the technical documentation on [Data Legends](https://sciencebasedtargets.github.io/SBTi-finance-tool/Legends.html#) for details on data requirements. \n",
    "\n",
    "### Load the portfolio from a CSV file or an xlsx file\n",
    "Enter the path to your portfolio file inside the quotation marks below. Then remove the # at the beginning of the appropriate line and run the cell."
   ]
  },
  {
   "cell_type": "code",
   "execution_count": null,
   "id": "50ff216a",
   "metadata": {},
   "outputs": [],
   "source": [
    "df_portfolio = pd.read_csv(\"data/example_portfolio.csv\", encoding=\"iso-8859-1\")\n",
    "#df_portfolio = pd.read_excel(\"data/example_portfolio.xlsx\", engine=\"openpyxl\") # .xlsx format\n",
    "\n",
    "#Use your local file instead\n",
    "#my_file_path = \"path/to/your/portfolio_file.csv\"\n",

    "#my_file_path = \"//SBTi-finance-tool/examples/data/example_portfolio.csv\"\n",
    "#df_portfolio = pd.read_csv(my_file_path, encoding=\"utf-8\")"
   ]
  },
  {
   "cell_type": "code",
   "execution_count": null,
   "id": "def42bae",
   "metadata": {},
   "outputs": [],
   "source": [
    "# Add this code right after loading the portfolio\n",
    "# Convert all column names to snake_case format\n",
    "def convert_to_snake_case(name):\n",
    "    \"\"\"Convert any string to snake_case format\"\"\"\n",
    "    import re\n",
    "    # Handle CamelCase and PascalCase\n",
    "    s1 = re.sub('(.)([A-Z][a-z]+)', r'\\1_\\2', name)\n",
    "    s2 = re.sub('([a-z0-9])([A-Z])', r'\\1_\\2', s1)\n",
    "    # Convert to lowercase\n",
    "    s3 = s2.lower()\n",
    "    # Replace spaces and other separators with underscores\n",
    "    s4 = re.sub(r'[^a-z0-9_]', '_', s3)\n",
    "    # Remove duplicate underscores\n",
    "    s5 = re.sub(r'_+', '_', s4)\n",
    "    # Remove leading and trailing underscores\n",
    "    return s5.strip('_')\n",
    "\n",
    "# Apply conversion to all column names\n",
    "original_columns = df_portfolio.columns.tolist()\n",
    "df_portfolio.columns = [convert_to_snake_case(col) for col in df_portfolio.columns]"
   ]
  },
  {
   "cell_type": "code",
   "execution_count": null,
   "id": "874da22f",
   "metadata": {},
   "outputs": [],
   "source": [
    "# Detect column format and standardize for flexibility\n",
    "# Support both new format (isin, lei) and old format (company_isin, company_lei)\n",
    "\n",
    "if 'isin' in df_portfolio.columns and 'company_isin' in df_portfolio.columns:\n",
    "    print(\"Warning: Both 'isin' and 'company_isin' columns found. Using 'company_isin'.\")\n",
    "    portfolio_isin_col = 'company_isin'\n",
    "elif 'company_isin' in df_portfolio.columns:\n",
    "    print(\"Using old format: 'company_isin' column detected.\")\n",
    "    portfolio_isin_col = 'company_isin'\n",
    "elif 'isin' in df_portfolio.columns:\n",
    "    print(\"Using new format: 'isin' column detected.\")\n",
    "    portfolio_isin_col = 'isin'\n",
    "else:\n",
    "    print(\"Warning: No ISIN column found.\")\n",
    "    portfolio_isin_col = None\n",
    "\n",
    "if 'lei' in df_portfolio.columns and 'company_lei' in df_portfolio.columns:\n",
    "    print(\"Warning: Both 'lei' and 'company_lei' columns found. Using 'company_lei'.\")\n",
    "    portfolio_lei_col = 'company_lei'\n",
    "elif 'company_lei' in df_portfolio.columns:\n",
    "    print(\"Using old format: 'company_lei' column detected.\")\n",
    "    portfolio_lei_col = 'company_lei'\n",
    "elif 'lei' in df_portfolio.columns:\n",
    "    print(\"Using new format: 'lei' column detected.\")\n",
    "    portfolio_lei_col = 'lei'\n",
    "else:\n",
    "    print(\"Warning: No LEI column found.\")\n",
    "    portfolio_lei_col = None\n",
    "\n",
    "print(f\"Portfolio format detected - ISIN column: {portfolio_isin_col}, LEI column: {portfolio_lei_col}\")"
   ]
  },
  {
   "cell_type": "code",
   "execution_count": null,
   "id": "34c2c5b0",
   "metadata": {},
   "outputs": [],
   "source": [
    "# Change the column names to match the API if the snakecase conversion did not work\n",
    "#df_portfolio.rename(columns={'Company Name': 'company_name', 'ISIN': 'isin'}, inplace=True)\n",
    "\n",
    "# Check for duplicate values in the 'company_id' column\n",
    "duplicate_ids = df_portfolio[df_portfolio.duplicated('company_id', keep=False)]\n",
    "\n",
    "if not duplicate_ids.empty:\n",
    "    print(\"Error: Duplicate values found in the 'company_id' column:\")\n",
    "    print(duplicate_ids)\n",
    "else:\n",
    "    print(\"No duplicate values found in the 'company_id' column.\")"
   ]
  },
  {
   "cell_type": "markdown",
   "id": "d6a9a87f",
   "metadata": {},
   "source": [
    "## Enter the date to be used in calculating the portfolio coverage.\n",
    "The date has to be older than today's date.\n",
    "The format is: "
   ]
  },
  {
   "cell_type": "code",
   "execution_count": null,
   "id": "a537ef3d",
   "metadata": {},
   "outputs": [],
   "source": [
    "year = 2020 #enter the year for which you want to calculate the portfolio coverage\n",
    "month = 12 #enter the month for which you want to calculate the portfolio coverage\n",
    "day = 31 #enter the day for which you want to calculate the portfolio coverage"
   ]
  },
  {
   "cell_type": "code",
   "execution_count": null,
   "id": "0d4a6dc3",
   "metadata": {},
   "outputs": [],
   "source": [
    "user_date = datetime(year, month, day)"
   ]
  },
  {
   "cell_type": "markdown",
   "id": "c22aea59",
   "metadata": {},
   "source": [
    "Now load the CTA file (Companies Taking Action) from the SBTi website."
   ]
  },
  {
   "cell_type": "code",
   "execution_count": null,
   "id": "57fa2c59",
   "metadata": {},
   "outputs": [],
   "source": [
    "# Use the enhanced SBTi class for consistent format handling\n",
    "from SBTi.data.sbti import SBTi\n",
    "\n",
    "print(\"Loading SBTi Companies Taking Action data...\")\n",
    "sbti_provider = SBTi()\n",
    "print(f\"SBTi format: {getattr(sbti_provider, 'format_type', 'detected automatically')}\")\n",
    "print(f\"Companies loaded: {len(sbti_provider.targets)}\")\n",
    "\n",
    "# Access the processed targets data (already filtered and formatted)\n",
    "cta_file = sbti_provider.targets.copy()"
   ]
  },
  {
   "cell_type": "code",
   "execution_count": null,
   "id": "8120a0a4",
   "metadata": {},
   "outputs": [],
   "source": [
    "cta_file.head()"
   ]
  },
  {
   "cell_type": "markdown",
   "id": "3d9b7815",
   "metadata": {},
   "source": [
    "## Filter the CTA file\n",
    "Filter the CTA file to create a dataframe that has one row per company with the columns \"action\" and \"target\".\n",
    "If Action = Target then only keep the rows where Target = Near-term.\n",
    "        "
   ]
  },
  {
   "cell_type": "code",
   "execution_count": null,
   "id": "66c9eac4",
   "metadata": {},
   "outputs": [],
   "source": [
    "# The SBTi class has already processed and filtered the data\n",
    "# Just work with the pre-processed targets\n",
    "targets = cta_file.copy()\n",
    "\n",
    "# Filter for companies that have \"Target\" in the action field  \n",
    "companies_with_targets = targets[targets[sbti_provider.c.COL_ACTION] == sbti_provider.c.VALUE_ACTION_TARGET]\n",
    "\n",
    "print(f\"Total companies with targets: {len(companies_with_targets)}\")\n",
    "\n",
    "# Get unique company names with targets\n",
    "unique_companies_with_targets = companies_with_targets[sbti_provider.c.COL_COMPANY_NAME].unique()\n",
    "total_companies_with_targets = len(unique_companies_with_targets)\n",
    "\n",
    "# Total unique companies in SBTi database\n",
    "total_companies_in_sbti = len(targets[sbti_provider.c.COL_COMPANY_NAME].unique())\n",
    "\n",
    "# Create a new dataframe with one row per company (to avoid duplicates in counting)\n",
    "unique_companies_df = companies_with_targets.drop_duplicates(subset=[sbti_provider.c.COL_COMPANY_NAME])\n",
    "\n",
    "# Create sets for companies with different identifiers\n",
    "companies_with_isin = set(unique_companies_df[unique_companies_df[sbti_provider.c.COL_COMPANY_ISIN].notna()][sbti_provider.c.COL_COMPANY_NAME])\n",
    "companies_with_lei = set(unique_companies_df[unique_companies_df[sbti_provider.c.COL_COMPANY_LEI].notna()][sbti_provider.c.COL_COMPANY_NAME])\n",
    "\n",
    "# Get unique ISINs and LEIs\n",
    "all_isin_set = set(companies_with_targets[sbti_provider.c.COL_COMPANY_ISIN].dropna())\n",
    "all_lei_set = set(companies_with_targets[sbti_provider.c.COL_COMPANY_LEI].dropna())\n",
    "\n",
    "# Calculate the different categories\n",
    "companies_with_both = companies_with_isin.intersection(companies_with_lei)\n",
    "companies_with_only_isin = companies_with_isin - companies_with_both\n",
    "companies_with_only_lei = companies_with_lei - companies_with_both\n",
    "companies_with_neither = set(unique_companies_with_targets) - companies_with_isin - companies_with_lei\n",
    "\n",
    "# Count companies in each category\n",
    "total_companies_with_both = len(companies_with_both)\n",
    "total_companies_with_only_isin = len(companies_with_only_isin)\n",
    "total_companies_with_only_lei = len(companies_with_only_lei)\n",
    "total_companies_without_identifiers = len(companies_with_neither)\n",
    "\n",
    "# Print the analysis\n",
    "print(f\"Total unique companies in the SBTi database: {total_companies_in_sbti}\")\n",
    "print(f\"Total companies with targets in SBTi database: {total_companies_with_targets}\")\n",
    "print(f\"Total unique ISINs with targets: {len(all_isin_set)}\")\n",
    "print(f\"Total unique LEIs with targets: {len(all_lei_set)}\")\n",
    "print(f\"Companies with targets with both ISIN and LEI: {total_companies_with_both}\")\n",
    "print(f\"Companies with targets with only ISIN (no LEI): {total_companies_with_only_isin}\")\n",
    "print(f\"Companies with targets with only LEI (no ISIN): {total_companies_with_only_lei}\")\n",
    "print(f\"Companies with targets but no LEI or ISIN: {total_companies_without_identifiers}\")\n",
    "\n",
    "# Verification\n",
    "calculated_total = (total_companies_with_both + \n",
    "                   total_companies_with_only_isin + \n",
    "                   total_companies_with_only_lei + \n",
    "                   total_companies_without_identifiers)\n",
    "print(f\"Sum of all categories: {calculated_total}\")\n",
    "print(f\"Matches total companies with targets: {calculated_total == total_companies_with_targets}\")"
   ]
  },
  {
   "cell_type": "markdown",
   "id": "39f77799",
   "metadata": {},
   "source": [
    "## Filter out dates\n",
    "Now filter out rows according to the provided date"
   ]
  },
  {
   "cell_type": "code",
   "execution_count": null,
   "id": "0e985555",
   "metadata": {},
   "outputs": [],
   "source": [
    "# Convert the \"Date Published\" column to datetime type\n",
    "df_targets = companies_with_targets.copy()  \n",
    "df_targets[sbti_provider.c.COL_DATE_PUBLISHED] = pd.to_datetime(df_targets[sbti_provider.c.COL_DATE_PUBLISHED])\n",
    "\n",
    "# Filter rows based on user-entered date\n",
    "filtered_df = df_targets.loc[df_targets[sbti_provider.c.COL_DATE_PUBLISHED] <= user_date]\n",
    "filtered_df = filtered_df[filtered_df[sbti_provider.c.COL_COMPANY_ISIN].notnull() | filtered_df[sbti_provider.c.COL_COMPANY_LEI].notnull()]  \n",
    "\n",
    "# Create a set of company names from the filtered SBTi data\n",
    "filtered_df['company_name_lower'] = filtered_df[sbti_provider.c.COL_COMPANY_NAME].str.lower()\n",
    "company_name_set = set(filtered_df['company_name_lower'].dropna())"
   ]
  },
  {
   "cell_type": "markdown",
   "id": "666b6418",
   "metadata": {},
   "source": [
    "## Check CTA file for companies with validated targets"
   ]
  },
  {
   "cell_type": "code",
   "execution_count": null,
   "id": "f27ba904",
   "metadata": {},
   "outputs": [],
   "source": [
    "# Create sets for matching\n",
    "isin_set = set(filtered_df[sbti_provider.c.COL_COMPANY_ISIN])\n",
    "lei_set = set(filtered_df[sbti_provider.c.COL_COMPANY_LEI])\n",
    "\n",
    "# Flexible validation function that works with both old and new column formats\n",
    "def is_validated(row):\n",
    "    # Check LEI (use detected column name)\n",
    "    if portfolio_lei_col and pd.notna(row.get(portfolio_lei_col)) and row.get(portfolio_lei_col) in all_lei_set:\n",
    "        return True\n",
    "    \n",
    "    # Check ISIN (use detected column name)\n",
    "    if portfolio_isin_col and pd.notna(row.get(portfolio_isin_col)) and row.get(portfolio_isin_col) in all_isin_set:\n",
    "        return True\n",
    "    \n",
    "    # Check company name\n",
    "    if pd.notna(row.get('company_name')):\n",
    "        company_name_lower = row.get('company_name').lower()\n",
    "        if company_name_lower in company_name_set:\n",
    "            return True\n",
    "    \n",
    "    # If none of the conditions are met\n",
    "    return False\n",
    "\n",
    "# Apply the function to create the 'validated' column\n",
    "df_portfolio['validated'] = df_portfolio.apply(is_validated, axis=1)\n",
    "\n",
    "print(f\"Validation completed using ISIN column: {portfolio_isin_col}, LEI column: {portfolio_lei_col}\")"
   ]
  },
  {
   "cell_type": "markdown",
   "id": "58b1d787",
   "metadata": {},
   "source": [
    "## Portfolio coverage\n",
    "\n",
    "The portfolio coverage provides insights in the proportion of the portfolio that has set SBTi-approved GHG emissions reduction targets. Only companies with SBTi-status \"Approved\" are included in the portfolio coverage.\n",
    "\n",
    "To calculate the portfolio coverage we use the same aggregation methods we use for the Portfolio Temperature Score. Currently, in this simplified notebook, only the \"Weighted Average Temperature Score\" (WATS) is used. For more details on aggregation methods and the portfolio coverage method, please refer to the [methodology document](https://sciencebasedtargets.org/wp-content/uploads/2020/09/Temperature-Rating-Methodology-V1.pdf) sections 3.2 and also turn to notebook 4 (on [Colab](https://colab.research.google.com/github/OFBDABV/SBTi/blob/master/examples/4_portfolio_aggregations.ipynb) or [GitHub](https://github.com/ScienceBasedTargets/SBTi-finance-tool/blob/master/examples/4_portfolio_aggregations.ipynb)) for more aggregation examples."
   ]
  },
  {
   "cell_type": "code",
   "execution_count": null,
   "id": "96dc0aa5",
   "metadata": {},
   "outputs": [],
   "source": [
    "total_investment_weight = df_portfolio['investment_value'].sum()\n",
    "try:\n",
    "    pc_weighted = df_portfolio.apply(\n",
    "        lambda row: (row['investment_value'] * row['validated'])\n",
    "        / total_investment_weight,\n",
    "        axis=1,\n",
    "    )\n",
    "except ZeroDivisionError:\n",
    "    raise ValueError(\"The portfolio weight is not allowed to be zero\")\n",
    "pc_result = round(pc_weighted.sum(), 2)\n",
    "print(f\"Portfolio coverage is: {pc_result*100}%.\")"
   ]
  },
  {
   "cell_type": "code",
   "execution_count": null,
   "id": "3ee1d147",
   "metadata": {},
   "outputs": [],
   "source": [
    "#Print the Total and Validated Investment Values\n",
    "total_investment_weight = df_portfolio[\"investment_value\"].sum()\n",
    "validated_investment_sum = df_portfolio.loc[df_portfolio[\"validated\"] == True, \"investment_value\"].sum()\n",
    "\n",
    "print(f\"Total Investment Value: {total_investment_weight:,.2f}\")\n",
    "print(f\"Validated Investment Value: {validated_investment_sum:,.2f}\")\n",
    "print(f\"Percentage of Portfolio Value with Validated Targets: {(validated_investment_sum/total_investment_weight)*100:.2f}%\")\n",
    "print(f\"Total Companies in Portfolio: {len(df_portfolio)}\")\n",
    "print(f\"Validated Companies: {df_portfolio['validated'].sum()}\")\n",
    "print(f\"Percentage of Companies with Validated Targets: {(df_portfolio['validated'].sum()/len(df_portfolio))*100:.2f}%\")\n",
    "\n",
    "#Show the first few validated companies\n",
    "print(\"\\nSample of companies with validated targets:\")\n",
    "print(df_portfolio[df_portfolio[\"validated\"] == True][[\"company_name\", \"investment_value\", \"validated\"]].head(10))"
   ]
  },
  {
   "cell_type": "markdown",
   "id": "9610beae",
   "metadata": {},
   "source": [
    "Updated counting function to test"
   ]
  },
  {
   "cell_type": "code",
   "execution_count": null,
   "id": "94b9c601",
   "metadata": {},
   "outputs": [],
   "source": [
    "distinct_company_count = df_portfolio['company_name'].nunique()\n",
    "validated_companies = df_portfolio[df_portfolio['validated']]['company_name'].nunique()\n",
    "\n",
    "print(f\"Total Distinct Companies: {distinct_company_count}\")\n",
    "print(f\"Distinct Validated Companies: {validated_companies}\")\n",
    "print(f\"Percentage of Distinct Companies with Validated Targets: {(validated_companies/distinct_company_count)*100:.2f}%\")\n",
    "\n",
    "# Original counting method - counts rows, not necessarily distinct companies\n",
    "print(f\"Total Portfolio Rows: {len(df_portfolio)}\")\n",
    "print(f\"Validated Rows: {df_portfolio['validated'].sum()}\")\n",
    "print(f\"Percentage of Rows with Validated Targets: {(df_portfolio['validated'].sum()/len(df_portfolio))*100:.2f}%\")\n",
    "\n",
    "#Show the first few validated companies\n",
    "print(\"\\nSample of companies with validated targets:\")\n",
    "print(df_portfolio[df_portfolio[\"validated\"] == True][[\"company_name\", \"investment_value\", \"validated\"]].head(10))"
   ]
  },
  {
   "cell_type": "markdown",
   "id": "52847be1",
   "metadata": {},
   "source": [
    "## Save the portfolio\n",
    "If you want to save the portfolio, you can use the following code in the following cell. "
   ]
  },
  {
   "cell_type": "code",
   "execution_count": null,
   "id": "fedd0a60",
   "metadata": {},
   "outputs": [],
   "source": [
    "df_portfolio.to_csv('data/validated_portfolio.csv', index=False)"
   ]
  }
 ],
 "metadata": {
  "kernelspec": {
   "display_name": "Python 3",
   "language": "python",
   "name": "python3"
  }
 },
 "nbformat": 4,
 "nbformat_minor": 5
}
