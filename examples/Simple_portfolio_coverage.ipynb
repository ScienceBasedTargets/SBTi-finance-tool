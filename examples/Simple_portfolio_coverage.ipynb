{
 "cells": [
  {
   "cell_type": "markdown",
   "metadata": {},
   "source": [
    "# SBTi-Finance Tool - Calculate portfolio coverage\n",
    "This notebook provides a simple way to calculate portfolio coverage with a cut-off date specified by the user. The intention is to allow the SBTi TVT as well as financial institutions to calculate the portfolio coverage at a date in the past corresponding to a base date or base year for the FI's portfolio target.\n",
    "\n",
    "This notebook currently only supports aggregation via the WATS method.\n",
    "\n",
    "This notebook does not calculate any temperature scores."
   ]
  },
  {
   "cell_type": "markdown",
   "metadata": {},
   "source": [
    "### Install the necessary Python modules\n",
    "This is only required if you have not already installed the module."
   ]
  },
  {
   "cell_type": "code",
   "execution_count": 1,
   "metadata": {},
   "outputs": [],
   "source": [
    "from datetime import datetime\n",
    "import pandas as pd\n",
    "import requests\n",
    "import openpyxl"
   ]
  },
  {
   "cell_type": "markdown",
   "metadata": {},
   "source": [
    "## Create the data directory and download the example portfolio\n",
    "We have prepared dummy data for you to be able to run the tool as it is to familiarise yourself with how it works. To use your own data; please check out to the [Data Requirements section](https://sciencebasedtargets.github.io/SBTi-finance-tool/DataRequirements.html) of the technical documentation for more details on data requirements and formatting. \n",
    "\n",
    "*The dummy data may include some company names, but the data associated with those company names is completely random and any similarities with real world data is purely coincidental. \n"
   ]
  },
  {
   "cell_type": "code",
   "execution_count": 2,
   "metadata": {
    "pycharm": {
     "is_executing": false
    }
   },
   "outputs": [],
   "source": [
    "import urllib.request\n",
    "import os\n",
    "\n",
    "if not os.path.isdir(\"data\"):\n",
    "    os.mkdir(\"data\")\n",
    "if not os.path.isfile(\"data/example_portfolio.csv\"):\n",
    "    urllib.request.urlretrieve(\"https://github.com/ScienceBasedTargets/SBTi-finance-tool/raw/main/examples/data/example_portfolio.csv\", \"data/example_portfolio.csv\")"
   ]
  },
  {
   "cell_type": "markdown",
   "metadata": {},
   "source": [
    "## Load your portfolio\n",
    "The example portfolio is stored as a .csv file. Alternatively, you can upload an .xlsx file, just choose one of the loading options below.\n",
    "\n",
    "You can upload your portfolio file using the folder icon on the left hand side of the screen. Once you have uploaded your file, you can load it into the notebook using the code below.\n",
    "\n",
    "The portfolio should at least have an \"id\" (the identifier of the company) and a \"proportion\" (the weight of the company in your portfolio e.g. the value of the shares you hold) column. To calculate the weighted portfolio coverage the data also needs to include identifers for the portfolios constituents, preferably LEI, but also ISIN is recognized by the SBTi data.\n",
    "The following column names headers are required to upload the file to the tool, please note the the tool will not run unless these exact headers are included:\n",
    "\n",
    "company_name: Name of the company in your portfolio - each row must have a unique name  \n",
    "company_id : Unique identifier for the company in your portfolio  \n",
    "company_isin : The ISIN of the company in your portfolio, used to identify the company e.g. for SBTi status *  \n",
    "company_lei : Legal Entity Identifier for the company in your portfolio, used identify the company e.g. for SBTi status *  \n",
    "investment_value: Needed to weight the portfolio coverage by the value of the investment in the company  \n",
    "engagement_target: Not needed for the tool to run but is included to be compatible with the finance tool portfolio format  \n",
    "\n",
    "\\* These rows may be left blank but are needed to check the SBTi status of the company. If you do not have this data, please leave the rows blank and the tool will still run, but the SBTi status will not be included in the output.\n",
    "\n",
    "Please see the technical documentation on [Data Legends](https://sciencebasedtargets.github.io/SBTi-finance-tool/Legends.html#) for details on data requirements. "
   ]
  },
  {
   "cell_type": "markdown",
   "metadata": {},
   "source": [
    "### Load the portfolio from a CSV file or an xlsx file\n",
    "Enter the path to your portfolio file inside the quotation marks below. Then remove the # at the beginning of the appropriate line and run the cell."
   ]
  },
  {
   "cell_type": "code",
   "execution_count": null,
   "metadata": {},
   "outputs": [],
   "source": [
    "df_portfolio = pd.read_csv(\"data/example_portfolio.csv\", encoding=\"iso-8859-1\")\n",
    "#df_portfolio = pd.read_excel(\"data/example_portfolio.xlsx\", engine=\"openpyxl\")"
   ]
  },
  {
   "cell_type": "code",
   "execution_count": 3,
   "metadata": {
    "pycharm": {
     "is_executing": false
    }
   },
   "outputs": [],
   "source": [
    "# Change the column names to match the API\n",
    "df_portfolio.rename(columns={'company_isin': 'ISIN', 'company_lei': 'LEI'}, inplace=True)\n",
    "# Check for duplicate values in the 'company_id' column\n",
    "duplicate_ids = df_portfolio[df_portfolio.duplicated('company_id', keep=False)]\n",
    "\n",
    "if not duplicate_ids.empty:\n",
    "    print(\"Error: Duplicate values found in the 'company_id' column:\")\n",
    "    print(duplicate_ids)\n",
    "else:\n",
    "    print(\"No duplicate values found in the 'company_id' column.\")"
   ]
  },
  {
   "cell_type": "markdown",
   "metadata": {},
   "source": [
    "## Enter the date to be used in calculating the portfolio coverage.\n",
    "The date has to be older than today's date.\n",
    "The format is: "
   ]
  },
  {
   "cell_type": "code",
   "execution_count": 4,
   "metadata": {
    "pycharm": {
     "is_executing": false
    }
   },
   "outputs": [],
   "source": [
    "year = 2020 #enter the year for which you want to calculate the portfolio coverage\n",
    "month = 12 #enter the month for which you want to calculate the portfolio coverage\n",
    "day = 31 #enter the day for which you want to calculate the portfolio coverage"
   ]
  },
  {
   "cell_type": "code",
   "execution_count": 5,
   "metadata": {},
   "outputs": [],
   "source": [
    "user_date = datetime(year, month, day)"
   ]
  },
  {
   "cell_type": "markdown",
   "metadata": {},
   "source": [
    "Now load the CTA file (Companies Taking Action) from the SBTi website.\n"
   ]
  },
  {
   "cell_type": "code",
   "execution_count": 6,
   "metadata": {
    "pycharm": {
     "is_executing": false
    }
   },
   "outputs": [],
   "source": [
    "CTA_FILE_URL = \"https://sciencebasedtargets.org/download/target-dashboard\"\n",
    "resp = requests.get(CTA_FILE_URL)\n",
    "if resp.status_code != 200:\n",
    "    raise ValueError(\"Could not download CTA file\")\n",
    "cta_file = pd.read_excel(resp.content)"
   ]
  },
  {
   "cell_type": "code",
   "execution_count": null,
   "metadata": {},
   "outputs": [],
   "source": [
    "cta_file.head()"
   ]
  },
  {
   "cell_type": "markdown",
   "metadata": {},
   "source": [
    "## Filter the CTA file\n",
    "Filter the CTA file to create a dataframe that has on row per company with the columns \"Action\" and \"Target\".\n",
    "If Action = Target then only keep the rows where Target = Near-term.\n",
    "        "
   ]
  },
  {
   "cell_type": "code",
   "execution_count": 8,
   "metadata": {},
   "outputs": [],
   "source": [
    "targets = cta_file[\n",
    "            [\n",
    "                'Company Name', \n",
    "                'ISIN',\n",
    "                'LEI',\n",
    "                'Action',\n",
    "                'Target',\n",
    "                'Date Published'\n",
    "            ]\n",
    "        ]\n",
    "df_nt_targets = targets[\n",
    "            (targets['Action'] == 'Target') & \n",
    "            (targets['Target'] == 'Near-term')\n",
    "            ]\n",
    "        "
   ]
  },
  {
   "cell_type": "markdown",
   "metadata": {},
   "source": [
    "## Filter out dates\n",
    "Now filter out rows according to the provided date"
   ]
  },
  {
   "cell_type": "code",
   "execution_count": 9,
   "metadata": {
    "pycharm": {
     "is_executing": false
    }
   },
   "outputs": [],
   "source": [
    "# Convert the \"Date Published\" column to datetime type\n",
    "df_targets = df_nt_targets.copy()\n",
    "df_targets['Date Published'] = pd.to_datetime(df_targets['Date Published'])\n",
    "# Filter rows based on user-entered date\n",
    "filtered_df = df_targets.loc[df_targets['Date Published'] <= user_date]\n",
    "filtered_df = filtered_df[filtered_df['ISIN'].notnull() & filtered_df['LEI'].notnull()]"
   ]
  },
  {
   "cell_type": "markdown",
   "metadata": {},
   "source": [
    "## Check CTA file for companies with validated targets"
   ]
  },
  {
   "cell_type": "code",
   "execution_count": null,
   "metadata": {
    "pycharm": {
     "is_executing": false
    }
   },
   "outputs": [],
   "source": [
    "isin_set = set(filtered_df['ISIN'])\n",
    "lei_set = set(filtered_df['LEI'])\n",
    "\n",
    "# Function to check if ISIN or LEI is validated\n",
    "def is_validated(row):\n",
    "    return row['ISIN'] in isin_set or row['LEI'] in lei_set\n",
    "\n",
    "# Apply the function to create the 'validated' column\n",
    "df_portfolio['validated'] = df_portfolio.apply(is_validated, axis=1)"
   ]
  },
  {
   "cell_type": "markdown",
   "metadata": {},
   "source": [
    "## Portfolio coverage\n",
    "\n",
    "The portfolio coverage provides insights in the proportion of the portfolio that has set SBTi-approved GHG emissions reduction targets. Only companies with SBTi-status \"Approved\" are included in the portfolio coverage.\n",
    "\n",
    "To calculate the portfolio coverage we use the same aggregation methods we use for the Portfolio Temperature Score. Currently, in this simplified notebook, only the \"Weighted Average Temperature Score\" (WATS) is used. For more details on aggregation methods and the portfolio coverage method, please refer to the [methodology document](https://sciencebasedtargets.org/wp-content/uploads/2020/09/Temperature-Rating-Methodology-V1.pdf) sections 3.2 and also turn to notebook 4 (on [Colab](https://colab.research.google.com/github/OFBDABV/SBTi/blob/master/examples/4_portfolio_aggregations.ipynb) or [GitHub](https://github.com/ScienceBasedTargets/SBTi-finance-tool/blob/master/examples/4_portfolio_aggregations.ipynb)) for more aggregation examples."
   ]
  },
  {
   "cell_type": "code",
   "execution_count": null,
   "metadata": {
    "pycharm": {
     "is_executing": false
    }
   },
   "outputs": [],
   "source": [
    "total_investment_weight = df_portfolio['investment_value'].sum()\n",
    "try:\n",
    "    pc_weighted = df_portfolio.apply(\n",
    "        lambda row: (row['investment_value'] * row['validated'])\n",
    "        / total_investment_weight,\n",
    "        axis=1,\n",
    "    )\n",
    "except ZeroDivisionError:\n",
    "    raise ValueError(\"The portfolio weight is not allowed to be zero\")\n",
    "pc_result = round(pc_weighted.sum(), 2)\n",
    "print(f\"Portfolio coverage is: {pc_result*100}%.\")"
   ]
  },
  {
   "cell_type": "markdown",
   "metadata": {},
   "source": [
    "## Save the portfolio\n",
    "If you want to save the portfolio, you can use the following code in the following cell. \n"
   ]
  },
  {
   "cell_type": "code",
   "execution_count": null,
   "metadata": {},
   "outputs": [],
   "source": [
    "df_portfolio.to_csv('data/validated_portfolio.csv', index=False)"
   ]
  }
 ],
 "metadata": {
  "kernelspec": {
   "display_name": "Python 3 (ipykernel)",
   "language": "python",
   "name": "python3"
  },
  "language_info": {
   "codemirror_mode": {
    "name": "ipython",
    "version": 3
   },
   "file_extension": ".py",
   "mimetype": "text/x-python",
   "name": "python",
   "nbconvert_exporter": "python",
   "pygments_lexer": "ipython3",
   "version": "3.10.12"
  },
  "pycharm": {
   "stem_cell": {
    "cell_type": "raw",
    "metadata": {
     "collapsed": false
    },
    "source": []
   }
  }
 },
 "nbformat": 4,
 "nbformat_minor": 4
}
