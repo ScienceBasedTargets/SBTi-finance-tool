{
 "cells": [
  {
   "cell_type": "markdown",
   "metadata": {},
   "source": [
    "# SBTi-Finance Tool - Quick Temperature Score Calculation\n",
    "This notebook provides a simple example of the SBTi-Finance Tool. It shows how to use it to calculate the temperature score for companies, aggregate them to a portfolio level to get the portfolio temperature score. It also shows you how to calculate the portfolio coverage. \n",
    "\n",
    "Please see the [methodology](https://sciencebasedtargets.org/wp-content/uploads/2020/09/Temperature-Rating-Methodology-V1.pdf), [guidance](https://sciencebasedtargets.org/wp-content/uploads/2020/10/Financial-Sector-Science-Based-Targets-Guidance-Pilot-Version.pdf) and the [technical documentation](https://sciencebasedtargets.github.io/SBTi-finance-tool/) for more details. \n",
    "\n",
    "See 1_analysis_example (on [Colab](https://colab.research.google.com/github/OFBDABV/SBTi/blob/master/examples/1_analysis_example.ipynb) or [Github](https://github.com/ScienceBasedTargets/SBTi-finance-tool/blob/master/examples/1_analysis_example.ipynb)) for more in depth example of how to work with Jupyter Notebooks in general and SBTi notebooks in particular. "
   ]
  },
  {
   "cell_type": "markdown",
   "metadata": {},
   "source": [
    "### Install the SBTi Python module\n",
    "This is only required if you have not already installed the module."
   ]
  },
  {
   "cell_type": "code",
   "execution_count": null,
   "metadata": {
    "pycharm": {
     "is_executing": false
    }
   },
   "outputs": [],
   "source": [
    "%pip install sbti-finance-tool"
   ]
  },
  {
   "cell_type": "code",
   "execution_count": null,
   "metadata": {
    "pycharm": {
     "is_executing": false
    },
    "scrolled": true
   },
   "outputs": [],
   "source": [
    "import SBTi\n",
    "from SBTi.data.excel import ExcelProvider\n",
    "from SBTi.portfolio_aggregation import PortfolioAggregationMethod\n",
    "from SBTi.portfolio_coverage_tvp import PortfolioCoverageTVP\n",
    "from SBTi.temperature_score import TemperatureScore, Scenario\n",
    "from SBTi.target_validation import TargetProtocol\n",
    "from SBTi.interfaces import ETimeFrames, EScope\n",
    "import pandas as pd\n",
    "from datetime import datetime\n",
    "import requests"
   ]
  },
  {
   "cell_type": "markdown",
   "metadata": {},
   "source": [
    "## Download the dummy data provider\n",
    "We have prepared dummy data for you to be able to run the tool as it is to familiarise yourself with how it works. To use your own data; please check out to the [Data Requirements section](https://sciencebasedtargets.github.io/SBTi/DataRequirements.html) of the technical documentation for more details on data requirements and formatting. \n",
    "\n",
    "*The dummy data may include some company names, but the data associated with those company names is completely random and any similarities with real world data is purely coincidental. \n"
   ]
  },
  {
   "cell_type": "code",
   "execution_count": null,
   "metadata": {
    "pycharm": {
     "is_executing": false
    }
   },
   "outputs": [],
   "source": [
    "import urllib.request\n",
    "import os\n",
    "\n",
    "if not os.path.isdir(\"data\"):\n",
    "    os.mkdir(\"data\")\n",
    "if not os.path.isfile(\"data/data_provider_example.xlsx\"):\n",
    "    urllib.request.urlretrieve(\"https://github.com/ScienceBasedTargets/SBTi-finance-tool/raw/main/examples/data/data_provider_example.xlsx\", \"data/data_provider_example.xlsx\")\n",
    "if not os.path.isfile(\"data/example_portfolio.csv\"):\n",
    "    urllib.request.urlretrieve(\"https://github.com/ScienceBasedTargets/SBTi-finance-tool/raw/main/examples/data/example_portfolio.csv\", \"data/example_portfolio.csv\")"
   ]
  },
  {
   "cell_type": "markdown",
   "metadata": {},
   "source": [
    "##### Logging\n",
    "The SBTi module uses the Python standard library logging utilities to send log messages. The log level can be changed according to the user's needs."
   ]
  },
  {
   "cell_type": "code",
   "execution_count": null,
   "metadata": {
    "pycharm": {
     "is_executing": false
    }
   },
   "outputs": [],
   "source": [
    "import logging\n",
    "root_logger = logging.getLogger()\n",
    "root_logger.setLevel(\"INFO\")"
   ]
  },
  {
   "cell_type": "markdown",
   "metadata": {},
   "source": [
    "## Create a data provider\n",
    "Data providers let you connect to the data source of your choice. In this case we are connecting to Excel as a data provider. For all available dataproviders check the implementation [here](https://github.com/ScienceBasedTargets/SBTi-finance-tool/tree/master/SBTi/data)"
   ]
  },
  {
   "cell_type": "code",
   "execution_count": null,
   "metadata": {
    "pycharm": {
     "is_executing": false
    }
   },
   "outputs": [],
   "source": [
    "provider = ExcelProvider(path=\"data/data_provider_example.xlsx\")"
   ]
  },
  {
   "cell_type": "markdown",
   "metadata": {},
   "source": [
    "## Load your portfolio\n",
    "In our case the portfolio is stored as a CSV file. The portfolio should at least have an \"company_id\" (the identifier of the company) and a \"proportion\" (the weight of the company in your portfolio e.g. the value of the shares you hold) column.\n",
    "\n",
    "Please see the technical documentation on [Data Legends](https://sciencebasedtargets.github.io/SBTi/Legends.html#) for details on data requirements. "
   ]
  },
  {
   "cell_type": "code",
   "execution_count": null,
   "metadata": {
    "pycharm": {
     "is_executing": false
    }
   },
   "outputs": [],
   "source": [
    "# Load the portfolio data\n",
    "portfolio = pd.read_csv(\"data/example_portfolio.csv\", encoding=\"iso-8859-1\")\n",
    "\n",
    "# First check what columns are actually in the dataframe\n",
    "print(\"Original columns:\", portfolio.columns.tolist())\n",
    "\n",
    "# Change the column names to match the new SBTi CTA format\n",
    "\n",
    "rename_dict = {}\n",
    "if \"Company Name\" in portfolio.columns:\n",
    "    rename_dict[\"Company Name\"] = \"company_name\"\n",
    "if \"ISIN\" in portfolio.columns:\n",
    "    rename_dict[\"ISIN\"] = \"isin\" \n",
    "if \"LEI\" in portfolio.columns:\n",
    "    rename_dict[\"LEI\"] = \"lei\"\n",
    "if \"Sector\" in portfolio.columns:\n",
    "    rename_dict[\"Sector\"] = \"sector\"\n",
    "if \"Target\" in portfolio.columns:\n",
    "    rename_dict[\"Target\"] = \"full_target_language\"\n",
    "if \"Net-Zero Committed\" in portfolio.columns:\n",
    "    rename_dict[\"Net-Zero Committed\"] = \"net_zero_status\"\n",
    "if \"Near term - Target Status\" in portfolio.columns:\n",
    "    rename_dict[\"Near term - Target Status\"] = \"near_term_status\"\n",
    "if \"Target Classification\" in portfolio.columns:\n",
    "    rename_dict[\"Target Classification\"] = \"target_classification_long\"\n",
    "if \"Extension\" in portfolio.columns:\n",
    "    rename_dict[\"Extension\"] = \"reason_for_extension_or_removal\"\n",
    "if \"Date\" in portfolio.columns:\n",
    "    rename_dict[\"Date\"] = \"date_updated\"\n",
    "\n",
    "# Apply the renaming\n",
    "portfolio = portfolio.rename(columns=rename_dict)\n",
    "\n",
    "# Handle legacy column names if they exist\n",
    "if 'company_isin' in portfolio.columns:\n",
    "    portfolio.rename(columns={'company_isin': 'isin'}, inplace=True)\n",
    "if 'company_lei' in portfolio.columns:\n",
    "    portfolio.rename(columns={'company_lei': 'lei'}, inplace=True)\n",
    "\n",
    "# Ensure required columns exist\n",
    "required_columns = ['company_id', 'company_name', 'isin', 'lei', 'investment_value']\n",
    "for col in required_columns:\n",
    "    if col not in portfolio.columns:\n",
    "        portfolio[col] = None\n",
    "\n",
    "# Fix datatype of lei column - it might be numeric and need to be converted to string\n",
    "if 'lei' in portfolio.columns:\n",
    "    portfolio['lei'] = portfolio['lei'].astype(str)\n",
    "if 'isin' in portfolio.columns:\n",
    "    portfolio['isin'] = portfolio['isin'].astype(str)\n",
    "\n",
    "# Check for duplicate values in the 'company_id' column\n",
    "duplicate_ids = portfolio[portfolio.duplicated('company_id', keep=False)]\n",
    "if not duplicate_ids.empty:\n",
    "    print(\"Error: Duplicate values found in the 'company_id' column:\")\n",
    "    print(duplicate_ids)\n",
    "else:\n",
    "    print(\"No duplicate values found in the 'company_id' column.\")\n",
    "\n",
    "# Print final columns to verify\n",
    "print(\"Final columns:\", portfolio.columns.tolist())"
   ]
  },
  {
   "cell_type": "code",
   "execution_count": null,
   "metadata": {
    "pycharm": {
     "is_executing": false
    }
   },
   "outputs": [],
   "source": [
    "portfolio.head(5)"
   ]
  },
  {
   "cell_type": "markdown",
   "metadata": {},
   "source": [
    "To load the data from the data provider, we have to pass a list of IPortfolioCompany instances. The module has a strict [data model](https://sciencebasedtargets.github.io/SBTi-finance-tool/autoapi/SBTi/interfaces/index.html) to convert Pandas Dataframe to the right object types we supplied a utility function.\n"
   ]
  },
  {
   "cell_type": "code",
   "execution_count": null,
   "metadata": {
    "pycharm": {
     "is_executing": false
    }
   },
   "outputs": [],
   "source": [
    "companies = SBTi.utils.dataframe_to_portfolio(portfolio)"
   ]
  },
  {
   "cell_type": "markdown",
   "metadata": {},
   "source": [
    "Import the CTA and set up a SBTi target frame of reference."
   ]
  },
  {
   "cell_type": "code",
   "execution_count": null,
   "metadata": {},
   "outputs": [],
   "source": [
    "#Provides an absolute frame of reference for SBTi targets so that they are considered as cardinal compared to others in the calculation of temperature scores.\n",
    "def inject_sbti_validation_for_timeframe_scope_data(amended_portfolio, original_portfolio, debug=True):\n",
    "    \"\"\"\n",
    "    Specially designed for the SBTi tool where amended_portfolio contains multiple rows \n",
    "    per company (one for each time frame and scope combination).\n",
    "    \"\"\"\n",
    "    if 'sbti_validated' not in original_portfolio.columns:\n",
    "        print(\"⚠ No 'sbti_validated' column found in original portfolio\")\n",
    "        return amended_portfolio\n",
    "    \n",
    "    # Store original values before modification\n",
    "    original_validated_count = original_portfolio['sbti_validated'].sum()\n",
    "    original_companies_count = len(original_portfolio)\n",
    "    \n",
    "    # Get count of unique companies in amended portfolio\n",
    "    unique_companies_amended = amended_portfolio['company_id'].nunique()\n",
    "    \n",
    "    if debug:\n",
    "        print(f\"Original portfolio: {original_companies_count} companies, {original_validated_count} validated\")\n",
    "        print(f\"Amended portfolio: {len(amended_portfolio)} rows, {unique_companies_amended} unique companies\")\n",
    "        \n",
    "        # Check for duplicated rows by company_id\n",
    "        if len(amended_portfolio) > unique_companies_amended:\n",
    "            print(f\"Multiple rows per company detected in amended portfolio\")\n",
    "            print(f\"Rows per company: {len(amended_portfolio) / unique_companies_amended:.2f}\")\n",
    "            \n",
    "            # Show distribution of time_frame and scope if they exist\n",
    "            if 'time_frame' in amended_portfolio.columns:\n",
    "                print(\"\\nTime frame distribution:\")\n",
    "                print(amended_portfolio['time_frame'].value_counts())\n",
    "            if 'scope' in amended_portfolio.columns:\n",
    "                print(\"\\nScope distribution:\")\n",
    "                print(amended_portfolio['scope'].value_counts())\n",
    "    \n",
    "    # Create a validation mapping\n",
    "    validation_map = dict(zip(original_portfolio['company_id'], original_portfolio['sbti_validated']))\n",
    "    \n",
    "    # Apply validation to all rows in amended portfolio\n",
    "    amended_portfolio['sbti_validated'] = amended_portfolio['company_id'].map(validation_map).fillna(False)\n",
    "    \n",
    "    # Count unique validated companies after modification\n",
    "    validated_companies = amended_portfolio[amended_portfolio['sbti_validated']]['company_id'].nunique()\n",
    "    \n",
    "    # Print validation summary\n",
    "    print(f\"\\nOriginal validated companies: {original_validated_count}\")\n",
    "    print(f\"Unique companies validated in amended portfolio: {validated_companies}\")\n",
    "    \n",
    "    if original_validated_count == validated_companies:\n",
    "        print(\"✓ CTA validation successfully preserved at company level\")\n",
    "    else:\n",
    "        print(\"⚠ CTA validation mismatch at company level\")\n",
    "        \n",
    "        # Additional debugging\n",
    "        if debug:\n",
    "            print(\"\\nChecking for specific discrepancies...\")\n",
    "            # Get list of company IDs that should be validated\n",
    "            original_validated_ids = set(original_portfolio[original_portfolio['sbti_validated']]['company_id'])\n",
    "            amended_validated_ids = set(amended_portfolio[amended_portfolio['sbti_validated']]['company_id'])\n",
    "            \n",
    "            missing_validations = original_validated_ids - amended_validated_ids\n",
    "            extra_validations = amended_validated_ids - original_validated_ids\n",
    "            \n",
    "            if missing_validations:\n",
    "                print(f\"Companies that should be validated but aren't: {len(missing_validations)}\")\n",
    "                print(missing_validations)\n",
    "            \n",
    "            if extra_validations:\n",
    "                print(f\"Companies that shouldn't be validated but are: {len(extra_validations)}\")\n",
    "                print(extra_validations)\n",
    "    \n",
    "    return amended_portfolio"
   ]
  },
  {
   "cell_type": "code",
   "execution_count": null,
   "metadata": {},
   "outputs": [],
   "source": [
    "# STANDALONE SBTi VALIDATION - Download and process CTA data\n",
    "print(\"Downloading SBTi Companies Taking Action (CTA) data...\")\n",
    "CTA_FILE_URL = \"https://cdn.sciencebasedtargets.org/download/target-dashboard\"\n",
    "\n",
    "try:\n",
    "    resp = requests.get(CTA_FILE_URL)\n",
    "    if resp.status_code == 200:\n",
    "        cta_file = pd.read_excel(resp.content)\n",
    "        print(f\"Downloaded CTA data with {len(cta_file)} rows\")\n",
    "        \n",
    "        # Extract relevant columns\n",
    "        targets = cta_file[['company_name', 'isin', 'lei', 'action', 'target', 'date_published']]\n",
    "        \n",
    "        # Filter for companies with targets\n",
    "        companies_with_targets = targets[targets['action'] == 'Target']\n",
    "        \n",
    "        # Get unique identifiers\n",
    "        all_isin_set = set(companies_with_targets['isin'].dropna())\n",
    "        all_lei_set = set(companies_with_targets['lei'].dropna())\n",
    "        \n",
    "        # Create a set of lowercase company names\n",
    "        companies_with_targets['company_name_lower'] = companies_with_targets['company_name'].str.lower()\n",
    "        company_name_set = set(companies_with_targets['company_name_lower'].dropna())\n",
    "        \n",
    "        # Add portfolio columns if they don't exist\n",
    "        if 'isin' not in portfolio.columns and 'company_isin' in portfolio.columns:\n",
    "            portfolio['isin'] = portfolio['company_isin']\n",
    "        if 'lei' not in portfolio.columns and 'company_lei' in portfolio.columns:\n",
    "            portfolio['lei'] = portfolio['company_lei']\n",
    "        \n",
    "        # Function to check if ISIN, LEI, or company name is validated\n",
    "        def is_validated(row):\n",
    "            # First check LEI\n",
    "            if pd.notna(row.get('lei')) and str(row.get('lei')).lower() in [str(x).lower() for x in all_lei_set]:\n",
    "                return True\n",
    "            \n",
    "            # Then check ISIN\n",
    "            if pd.notna(row.get('isin')) and str(row.get('isin')).lower() in [str(x).lower() for x in all_isin_set]:\n",
    "                return True\n",
    "            \n",
    "            # Finally check company name\n",
    "            if pd.notna(row.get('company_name')):\n",
    "                company_name_lower = str(row.get('company_name')).lower()\n",
    "                if company_name_lower in company_name_set:\n",
    "                    return True\n",
    "            \n",
    "            return False\n",
    "        \n",
    "        # Add the validated column to the portfolio\n",
    "        portfolio['sbti_validated'] = portfolio.apply(is_validated, axis=1)\n",
    "        \n",
    "        # Convert portfolio to company objects again (after adding sbti_validated)\n",
    "        companies = SBTi.utils.dataframe_to_portfolio(portfolio)\n",
    "        \n",
    "        # Print validation summary\n",
    "        validated_count = portfolio['sbti_validated'].sum()\n",
    "        print(f\"Companies with SBTi-validated targets: {validated_count} out of {len(portfolio)} ({validated_count/len(portfolio)*100:.2f}%)\")\n",
    "        \n",
    "        if 'investment_value' in portfolio.columns:\n",
    "            total_investment = portfolio['investment_value'].sum()\n",
    "            validated_investment = portfolio[portfolio['sbti_validated']]['investment_value'].sum()\n",
    "            print(f\"Portfolio coverage by investment value: {validated_investment/total_investment*100:.2f}%\")\n",
    "    else:\n",
    "        print(f\"Failed to download CTA file: HTTP {resp.status_code}\")\n",
    "except Exception as e:\n",
    "    print(f\"Error processing CTA file: {str(e)}\")\n",
    "\n",
    "# Update provider data with our validation results\n",
    "print(\"Updating provider data with validated companies...\")\n",
    "try:\n",
    "    # Get the fundamental_data from provider\n",
    "    if hasattr(provider, 'data') and 'fundamental_data' in provider.data:\n",
    "        # Create a mapping of company_id to validation status\n",
    "        validation_map = portfolio[['company_id', 'sbti_validated']].set_index('company_id')['sbti_validated'].to_dict()\n",
    "        \n",
    "        # Update sbti_validated in provider data\n",
    "        updated_count = 0\n",
    "        for idx, row in provider.data['fundamental_data'].iterrows():\n",
    "            company_id = row['company_id']\n",
    "            if company_id in validation_map:\n",
    "                # Ensure we're setting a proper boolean value\n",
    "                is_validated = bool(validation_map[company_id])\n",
    "                provider.data['fundamental_data'].at[idx, 'sbti_validated'] = is_validated\n",
    "                updated_count += 1\n",
    "        \n",
    "        # Force the sbti_validated column to be boolean type\n",
    "        provider.data['fundamental_data']['sbti_validated'] = provider.data['fundamental_data']['sbti_validated'].astype(bool)\n",
    "        \n",
    "        print(f\"Updated sbti_validated for {updated_count} companies in provider data\")\n",
    "    else:\n",
    "        print(\"Provider does not have expected data structure - sbti_validated flags may be overwritten\")\n",
    "except Exception as e:\n",
    "    print(f\"Error updating provider data: {str(e)}\")"
   ]
  },
  {
   "cell_type": "markdown",
   "metadata": {},
   "source": [
    "## Calculate the temperature scores\n",
    "In the amended portfolio you'll find your original portfolio, amended with the emissions and the temperature score."
   ]
  },
  {
   "cell_type": "code",
   "execution_count": null,
   "metadata": {
    "pycharm": {
     "is_executing": false
    }
   },
   "outputs": [],
   "source": [
    "temperature_score = TemperatureScore(                  # all available options:\n",
    "    time_frames=list(SBTi.interfaces.ETimeFrames),     # ETimeFrames: SHORT MID and LONG\n",
    "    scopes=[EScope.S1S2, EScope.S3, EScope.S1S2S3],    # EScopes: S3, S1S2 and S1S2S3\n",
    "    aggregation_method=PortfolioAggregationMethod.WATS # Options for the aggregation method are WATS, TETS, AOTS, MOTS, EOTS, ECOTS, and ROTS.\n",
    ")\n",
    "amended_portfolio = temperature_score.calculate(data_providers=[provider], portfolio=companies)\n",
    "# Preserve the CTA validation from our direct download\n",
    "amended_portfolio = inject_sbti_validation_for_timeframe_scope_data(amended_portfolio, portfolio, debug=True)"
   ]
  },
  {
   "cell_type": "markdown",
   "metadata": {},
   "source": [
    "For every company the tool assigns a score for all the requested timeframe and scope combinations. In this example we used the full set resulting in 9 scores per company as displayed below:"
   ]
  },
  {
   "cell_type": "code",
   "execution_count": null,
   "metadata": {
    "pycharm": {
     "is_executing": false
    }
   },
   "outputs": [],
   "source": [
    "amended_portfolio[['company_name', 'time_frame', 'scope', 'temperature_score']].head(9)"
   ]
  },
  {
   "cell_type": "markdown",
   "metadata": {},
   "source": [
    "## Calculate the aggregated temperature score\n",
    "Calculate an aggregated temperature score. This can be done using different aggregation methods. Here we'll use the \"Weighted Average Temperature Score\" (WATS) by initializing the TemperatureScore Object with PortfolioAggregationMethod.WATS. For more details, please refer to notebook 4 (on [Colab](https://colab.research.google.com/github/OFBDABV/SBTi/blob/master/examples/4_portfolio_aggregations.ipynb) or [GitHub](https://github.com/ScienceBasedTargets/SBTi-finance-tool/blob/master/examples/4_portfolio_aggregations.ipynb)) and the [methodology document](https://sciencebasedtargets.org/wp-content/uploads/2020/09/Temperature-Rating-Methodology-V1.pdf) sections 3.2. The temperature scores are calculated per time-frame/scope combination.\n"
   ]
  },
  {
   "cell_type": "code",
   "execution_count": null,
   "metadata": {},
   "outputs": [],
   "source": [
    "aggregated_scores = temperature_score.aggregate_scores(amended_portfolio)"
   ]
  },
  {
   "cell_type": "code",
   "execution_count": null,
   "metadata": {
    "scrolled": true
   },
   "outputs": [],
   "source": [
    "# Here we cast a ScoreAggregation object to a Pandas Dataframe for viewing the temp scores in a human readable way\n",
    "pd.DataFrame(aggregated_scores.dict()).applymap(lambda x: round(x['all']['score'], 2))"
   ]
  },
  {
   "cell_type": "markdown",
   "metadata": {},
   "source": [
    "## Portfolio coverage\n",
    "\n",
    "The portfolio coverage provides insights in the proportion of the portfolio that has set SBTi-approved GHG emissions reduction targets. Only companies with SBTi-status \"Approved\" are included in the portfolio coverage.\n",
    "\n",
    "To calculate the portfolio coverage we use the same aggregation methods we use for the Portfolio Temperature Score. In this example we use the \"Weighted Average Temperature Score\" (WATS). For more details on aggregation methods and the portfolio coverage method, please refer to the [methodology document](https://sciencebasedtargets.org/wp-content/uploads/2020/09/Temperature-Rating-Methodology-V1.pdf) sections 3.2 and also turn to notebook 4 (on [Colab](https://colab.research.google.com/github/OFBDABV/SBTi/blob/master/examples/4_portfolio_aggregations.ipynb) or [GitHub](https://github.com/ScienceBasedTargets/SBTi-finance-tool/blob/master/examples/4_portfolio_aggregations.ipynb)) for more aggregation examples."
   ]
  },
  {
   "cell_type": "code",
   "execution_count": null,
   "metadata": {
    "pycharm": {
     "is_executing": false
    }
   },
   "outputs": [],
   "source": [
    "portfolio_coverage_tvp = PortfolioCoverageTVP()\n",
    "coverage = portfolio_coverage_tvp.get_portfolio_coverage(amended_portfolio.copy(), PortfolioAggregationMethod.WATS)\n",
    "print(\"Portfolio coverage is: {c:.2f}%\".format(c=coverage))"
   ]
  }
 ],
 "metadata": {
  "kernelspec": {
   "display_name": "base",
   "language": "python",
   "name": "python3"
  },
  "language_info": {
   "codemirror_mode": {
    "name": "ipython",
    "version": 3
   },
   "file_extension": ".py",
   "mimetype": "text/x-python",
   "name": "python",
   "nbconvert_exporter": "python",
   "pygments_lexer": "ipython3",
   "version": "3.12.7"
  },
  "pycharm": {
   "stem_cell": {
    "cell_type": "raw",
    "metadata": {
     "collapsed": false
    },
    "source": []
   }
  }
 },
 "nbformat": 4,
 "nbformat_minor": 4
}
