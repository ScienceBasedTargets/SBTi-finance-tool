{
 "cells": [
  {
   "cell_type": "markdown",
   "metadata": {},
   "source": [
    "# SBTi-Finance Tool - What-if Analysis\n",
    "In this notebook we show you how to analyse what impact different actions would have on the temperature score of your portfolio.\n",
    "\n",
    "Please see the [methodology](https://sciencebasedtargets.org/wp-content/uploads/2020/09/Temperature-Rating-Methodology-V1.pdf), [guidance](https://sciencebasedtargets.org/wp-content/uploads/2020/10/Financial-Sector-Science-Based-Targets-Guidance-Pilot-Version.pdf) and the [technical documentation](https://sciencebasedtargets.github.io/SBTi-finance-tool/) for more details on the different what-if scenarios.\n",
    "\n",
    "See 1_analysis_example (on [Colab](https://colab.research.google.com/github/OFBDABV/SBTi/blob/master/examples/1_analysis_example.ipynb) or [Github](https://github.com/ScienceBasedTargets/SBTi-finance-tool/blob/master/examples/1_analysis_example.ipynb)) for more in depth example of how to work with Jupyter Notebooks in general and SBTi notebooks in particular. \n"
   ]
  },
  {
   "cell_type": "markdown",
   "metadata": {},
   "source": [
    "## Setting up\n",
    "First we will set up the imports, data providers, and load the portfolio. \n",
    "\n",
    "For more examples of this process, please refer to notebook 1 & 2 ([analysis](https://github.com/ScienceBasedTargets/SBTi-finance-tool/blob/master/examples/1_analysis_example.ipynb) and [quick calculation example](https://github.com/ScienceBasedTargets/SBTi-finance-tool/blob/master/examples/2_quick_temp_score_calculation.ipynb))."
   ]
  },
  {
   "cell_type": "code",
   "execution_count": null,
   "metadata": {},
   "outputs": [],
   "source": [
    "!pip install SBTi"
   ]
  },
  {
   "cell_type": "code",
   "execution_count": 1,
   "metadata": {},
   "outputs": [],
   "source": [
    "%load_ext autoreload\n",
    "%autoreload 2\n",
    "import SBTi\n",
    "from SBTi.data.excel import ExcelProvider\n",
    "from SBTi.portfolio_aggregation import PortfolioAggregationMethod\n",
    "from SBTi.portfolio_coverage_tvp import PortfolioCoverageTVP\n",
    "from SBTi.temperature_score import TemperatureScore, Scenario, ScenarioType, EngagementType\n",
    "from SBTi.target_validation import TargetProtocol\n",
    "from SBTi.interfaces import ETimeFrames, EScope\n",
    "%aimport -pandas\n",
    "import pandas as pd"
   ]
  },
  {
   "cell_type": "code",
   "execution_count": 2,
   "metadata": {},
   "outputs": [],
   "source": [
    "# Download the dummy data\n",
    "import urllib.request\n",
    "import os\n",
    "\n",
    "if not os.path.isdir(\"data\"):\n",
    "    os.mkdir(\"data\")\n",
    "if not os.path.isfile(\"data/data_provider_example.xlsx\"):\n",
    "    urllib.request.urlretrieve(\"https://github.com/ScienceBasedTargets/SBTi-finance-tool/raw/master/examples/data/data_provider_example.xlsx\", \"data/data_provider_example.xlsx\")\n",
    "if not os.path.isfile(\"data/example_portfolio.csv\"):\n",
    "    urllib.request.urlretrieve(\"https://github.com/ScienceBasedTargets/SBTi-finance-tool/raw/master/examples/data/example_portfolio.csv\", \"data/example_portfolio.csv\")"
   ]
  },
  {
   "cell_type": "code",
   "execution_count": 3,
   "metadata": {
    "scrolled": false
   },
   "outputs": [],
   "source": [
    "provider = ExcelProvider(path=\"data/data_provider_example.xlsx\")\n",
    "df_portfolio = pd.read_csv(\"data/example_portfolio.csv\", encoding=\"iso-8859-1\")\n",
    "companies = SBTi.utils.dataframe_to_portfolio(df_portfolio)\n",
    "portfolio_data = SBTi.utils.get_data([provider], companies)\n",
    "scenarios = {}"
   ]
  },
  {
   "cell_type": "markdown",
   "metadata": {},
   "source": [
    "## Base scenario\n",
    "To determine what the effect is of running a certain scenario, we first need a base line. To do so, first we calculate the portfolio temperature score, without defining a scenario. \n",
    "\n",
    "We can then analyse the effect of the actions in our scenario's by comparing the temperature score medium-term timeframe in the combined s1s2s3 scope. Of course you can use multiple, or different criteria and also change the scope used to calculate the scores."
   ]
  },
  {
   "cell_type": "code",
   "execution_count": 4,
   "metadata": {},
   "outputs": [],
   "source": [
    "# Set the time frames and scopes for the scoring          other options displayed below. in this NB we use MID and S1S2S3\n",
    "time_frames = [SBTi.interfaces.ETimeFrames.MID]         # ETimeFrames: SHORT MID and LONG\n",
    "scopes = [EScope.S1S2S3]                                # EScopes: S1, S2, S3, S1S2 and S1S2S3"
   ]
  },
  {
   "cell_type": "markdown",
   "metadata": {
    "pycharm": {
     "name": "#%% md\n"
    },
    "scrolled": false
   },
   "source": [
    "Below we compute the temperature scores for all the timeframe and scope combinations. Subsequently, one can query the score of interest as shown in the last line in the cell below."
   ]
  },
  {
   "cell_type": "code",
   "execution_count": 5,
   "metadata": {
    "pycharm": {
     "name": "#%%\n"
    }
   },
   "outputs": [
    {
     "name": "stdout",
     "output_type": "stream",
     "text": [
      "The portfolio's base scenario temperature score (mid - S1S2S3) is 2.88 degrees celcius\n"
     ]
    }
   ],
   "source": [
    "temperature_score = TemperatureScore(time_frames=time_frames, scopes=scopes)\n",
    "base_scenario = temperature_score.calculate(portfolio_data.copy())\n",
    "base_scenario_aggregated = temperature_score.aggregate_scores(base_scenario)\n",
    "base_score = base_scenario_aggregated.mid.S1S2S3.all.score\n",
    "scenarios.update({'Base Scenario': base_score})\n",
    "print(\"The portfolio's base scenario temperature score (mid - S1S2S3) is {c:.2f} degrees celcius\".format(c=base_score))"
   ]
  },
  {
   "cell_type": "markdown",
   "metadata": {
    "pycharm": {
     "name": "#%% md\n"
    }
   },
   "source": [
    "## Scenario 1\n",
    "In scenario 1 we engage companies to set emissions reduction targets of at least 2 degrees Celsius. \n",
    "\n",
    "In practice, in the model, this means that we change the default score (i.e. the score when a company didn't set a target) to 2 degrees Celcius."
   ]
  },
  {
   "cell_type": "code",
   "execution_count": 6,
   "metadata": {},
   "outputs": [],
   "source": [
    "scenario = Scenario()\n",
    "scenario.scenario_type = ScenarioType.TARGETS\n",
    "scenario.engagement_type = None\n",
    "scenario.aggregation_method = PortfolioAggregationMethod.WATS\n",
    "scenario.grouping = None"
   ]
  },
  {
   "cell_type": "code",
   "execution_count": 7,
   "metadata": {
    "pycharm": {
     "name": "#%%\n"
    }
   },
   "outputs": [
    {
     "name": "stdout",
     "output_type": "stream",
     "text": [
      "The portfolio's scenario 1 temperature score (mid - S1S2S3) is 1.94 degrees Celsius\n"
     ]
    }
   ],
   "source": [
    "temperature_score = TemperatureScore(time_frames=time_frames, scopes=scopes, scenario=scenario, aggregation_method=PortfolioAggregationMethod.WATS)\n",
    "scenario_one = temperature_score.calculate(portfolio_data.copy())\n",
    "scenario_aggregated = temperature_score.aggregate_scores(scenario_one)\n",
    "scenario_1_score = scenario_aggregated.mid.S1S2S3.all.score\n",
    "scenarios.update({'Scenario 1': scenario_1_score})\n",
    "print(\"The portfolio's scenario 1 temperature score (mid - S1S2S3) is {c:.2f} degrees Celsius\".format(c=scenario_1_score))"
   ]
  },
  {
   "cell_type": "markdown",
   "metadata": {
    "pycharm": {
     "name": "#%% md\n"
    }
   },
   "source": [
    "## Scenario 2\n",
    "In scenario 2 we engage with companies to influence them to set SBTi approved emissions reduction targets. This means that the maximum score for all targets will be capped at 1.75 degrees Celsius."
   ]
  },
  {
   "cell_type": "code",
   "execution_count": 8,
   "metadata": {},
   "outputs": [],
   "source": [
    "scenario = Scenario()\n",
    "scenario.scenario_type = ScenarioType.APPROVED_TARGETS\n",
    "scenario.engagement_type = None\n",
    "scenario.aggregation_method = PortfolioAggregationMethod.WATS\n",
    "scenario.grouping = None"
   ]
  },
  {
   "cell_type": "code",
   "execution_count": 9,
   "metadata": {
    "pycharm": {
     "name": "#%%\n"
    }
   },
   "outputs": [
    {
     "name": "stdout",
     "output_type": "stream",
     "text": [
      "The portfolio's scenario 2 temperature score (mid - S1S2S3) is 1.63 degrees Celsius\n"
     ]
    }
   ],
   "source": [
    "temperature_score = TemperatureScore(time_frames=time_frames, scopes=scopes, scenario=scenario, aggregation_method=PortfolioAggregationMethod.WATS)\n",
    "scenario_two = temperature_score.calculate(portfolio_data.copy())\n",
    "scenario_aggregated = temperature_score.aggregate_scores(scenario_two)\n",
    "scenario_2_score = scenario_aggregated.mid.S1S2S3.all.score\n",
    "scenarios.update({'Scenario 2': scenario_2_score})\n",
    "print(\"The portfolio's scenario 2 temperature score (mid - S1S2S3) is {c:.2f} degrees Celsius\".format(c=scenario_2_score))\n"
   ]
  },
  {
   "cell_type": "markdown",
   "metadata": {
    "pycharm": {
     "name": "#%% md\n"
    }
   },
   "source": [
    "## Scenario 3a\n",
    "In scenario 3a we engage the top 10 contributing companies to the portfolio temperature score to influence them to set emission reduction targets. This means that their default score (i.e. the score when a company didn't set a target) will be set to 2 degrees Celsius."
   ]
  },
  {
   "cell_type": "code",
   "execution_count": 10,
   "metadata": {},
   "outputs": [],
   "source": [
    "scenario = Scenario()\n",
    "scenario.scenario_type = ScenarioType.HIGHEST_CONTRIBUTORS\n",
    "scenario.engagement_type = EngagementType.SET_TARGETS\n",
    "scenario.aggregation_method = PortfolioAggregationMethod.WATS\n",
    "scenario.grouping = None"
   ]
  },
  {
   "cell_type": "code",
   "execution_count": 11,
   "metadata": {
    "pycharm": {
     "name": "#%%\n"
    }
   },
   "outputs": [
    {
     "name": "stdout",
     "output_type": "stream",
     "text": [
      "The portfolio's scenario 3a temperature score (mid - S1S2S3) is 2.88 degrees Celsius\n"
     ]
    }
   ],
   "source": [
    "temperature_score = TemperatureScore(time_frames=time_frames, scopes=scopes, scenario=scenario, aggregation_method=PortfolioAggregationMethod.WATS)\n",
    "scenario_two = temperature_score.calculate(portfolio_data.copy())\n",
    "scenario_aggregated = temperature_score.aggregate_scores(scenario_two)\n",
    "scenario_3a_score = scenario_aggregated.mid.S1S2S3.all.score\n",
    "scenarios.update({'Scenario 3a': scenario_3a_score})\n",
    "print(\"The portfolio's scenario 3a temperature score (mid - S1S2S3) is {c:.2f} degrees Celsius\".format(c=scenario_3a_score))"
   ]
  },
  {
   "cell_type": "markdown",
   "metadata": {
    "pycharm": {
     "name": "#%% md\n"
    }
   },
   "source": [
    "## Scenario 3b\n",
    "In scenario 3b we engage the top 10 contributing companies to the portfolio temperature score to influence them to set SBTi-approved targets. This means that the maximum score for all the targets of these companies will be capped at 1.75 degrees Celsius."
   ]
  },
  {
   "cell_type": "code",
   "execution_count": 12,
   "metadata": {},
   "outputs": [],
   "source": [
    "scenario = Scenario()\n",
    "scenario.scenario_type = ScenarioType.HIGHEST_CONTRIBUTORS\n",
    "scenario.engagement_type = EngagementType.SET_SBTI_TARGETS\n",
    "scenario.aggregation_method = PortfolioAggregationMethod.WATS\n",
    "scenario.grouping = None"
   ]
  },
  {
   "cell_type": "code",
   "execution_count": 13,
   "metadata": {
    "pycharm": {
     "name": "#%%\n"
    }
   },
   "outputs": [
    {
     "name": "stdout",
     "output_type": "stream",
     "text": [
      "The portfolio's scenario 3b temperature score (mid - S1S2S3) is 2.88 degrees Celsius\n"
     ]
    }
   ],
   "source": [
    "temperature_score = TemperatureScore(time_frames=time_frames, scopes=scopes, scenario=scenario, aggregation_method=PortfolioAggregationMethod.WATS)\n",
    "scenario_two = temperature_score.calculate(portfolio_data.copy())\n",
    "scenario_aggregated = temperature_score.aggregate_scores(scenario_two)\n",
    "scenario_3b_score = scenario_aggregated.mid.S1S2S3.all.score\n",
    "scenarios.update({'Scenario 3b': scenario_3b_score})\n",
    "print(\"The portfolio's scenario 3b temperature score (mid - S1S2S3) is {c:.2f} degrees Celsius\".format(c=scenario_3b_score))"
   ]
  },
  {
   "cell_type": "markdown",
   "metadata": {
    "pycharm": {
     "name": "#%% md\n"
    }
   },
   "source": [
    "## Scenario 4a\n",
    "In scenario 4a we engage with any company in the portfolio to influence them to set emission reduction targets. We define these companies by adding \"`TRUE`\" in the `engagement_target`-column in the portfolio input-file. \n",
    "\n",
    "This means that their default score (i.e. the score when a company didn't set a target) will be set to 2 degrees Celsius.\n",
    "\n",
    "Scenario 4a and 4b gives you a lot of flexibility, as you can define the companies with which you engage freely and for example focus your engagement efforts on certain sectors, countries, market cap buckets to ensure that you spend your time wisely. "
   ]
  },
  {
   "cell_type": "code",
   "execution_count": 14,
   "metadata": {},
   "outputs": [],
   "source": [
    "scenario = Scenario()\n",
    "scenario.scenario_type = ScenarioType.HIGHEST_CONTRIBUTORS_APPROVED\n",
    "scenario.engagement_type = EngagementType.SET_TARGETS\n",
    "scenario.aggregation_method = PortfolioAggregationMethod.WATS\n",
    "scenario.grouping = None"
   ]
  },
  {
   "cell_type": "code",
   "execution_count": 15,
   "metadata": {
    "pycharm": {
     "name": "#%%\n"
    }
   },
   "outputs": [
    {
     "name": "stdout",
     "output_type": "stream",
     "text": [
      "The portfolio's scenario 4a temperature score (mid - S1S2S3) is 2.72 degrees Celsius\n"
     ]
    }
   ],
   "source": [
    "temperature_score = TemperatureScore(time_frames=time_frames, scopes=scopes, scenario=scenario, aggregation_method=PortfolioAggregationMethod.WATS)\n",
    "scenario_two = temperature_score.calculate(portfolio_data.copy())\n",
    "scenario_aggregated = temperature_score.aggregate_scores(scenario_two)\n",
    "scenario_4a_score = scenario_aggregated.mid.S1S2S3.all.score\n",
    "scenarios.update({'Scenario 4a': scenario_4a_score})\n",
    "print(\"The portfolio's scenario 4a temperature score (mid - S1S2S3) is {c:.2f} degrees Celsius\".format(c=scenario_4a_score))"
   ]
  },
  {
   "cell_type": "markdown",
   "metadata": {
    "pycharm": {
     "name": "#%% md\n"
    }
   },
   "source": [
    "## Scenario 4b\n",
    "In scenario 4b we can engage with any company in the portfolio and manage to influence them to set SBTi-approved targets. We define these companies by adding \"`TRUE`\" in the `engagement_target`-column in the portfolio input-file. \n",
    "\n",
    "This means that the maximum score for all the targets of these companies will be capped at 1.75 degrees Celsius."
   ]
  },
  {
   "cell_type": "code",
   "execution_count": 16,
   "metadata": {},
   "outputs": [],
   "source": [
    "scenario = Scenario()\n",
    "scenario.scenario_type = ScenarioType.HIGHEST_CONTRIBUTORS_APPROVED\n",
    "scenario.engagement_type = EngagementType.SET_SBTI_TARGETS\n",
    "scenario.aggregation_method = PortfolioAggregationMethod.WATS\n",
    "scenario.grouping = None"
   ]
  },
  {
   "cell_type": "code",
   "execution_count": 17,
   "metadata": {
    "pycharm": {
     "name": "#%%\n"
    }
   },
   "outputs": [
    {
     "name": "stdout",
     "output_type": "stream",
     "text": [
      "The portfolio's scenario 4b temperature score (mid - S1S2S3) is 2.69 degrees Celsius\n"
     ]
    }
   ],
   "source": [
    "temperature_score = TemperatureScore(time_frames=time_frames, scopes=scopes, scenario=scenario, aggregation_method=PortfolioAggregationMethod.WATS)\n",
    "scenario_two = temperature_score.calculate(portfolio_data.copy())\n",
    "scenario_aggregated = temperature_score.aggregate_scores(scenario_two)\n",
    "scenario_4b_score = scenario_aggregated.mid.S1S2S3.all.score\n",
    "scenarios.update({'Scenario 4b': scenario_4b_score})\n",
    "print(\"The portfolio's scenario 4b temperature score (mid - S1S2S3) is {c:.2f} degrees Celsius\".format(c=scenario_4b_score))"
   ]
  },
  {
   "cell_type": "markdown",
   "metadata": {},
   "source": [
    "To see which scenario provides the most suitable outcome we print an overview of all scenarios:"
   ]
  },
  {
   "cell_type": "code",
   "execution_count": 18,
   "metadata": {
    "pycharm": {
     "name": "#%%\n"
    }
   },
   "outputs": [
    {
     "name": "stdout",
     "output_type": "stream",
     "text": [
      "                    Temp score\n",
      "Scenario overview   (mid - S1S2S3):\n",
      "Base Scenario       2.88\n",
      "Scenario 1          1.94\n",
      "Scenario 2          1.63\n",
      "Scenario 3a         2.88\n",
      "Scenario 3b         2.88\n",
      "Scenario 4a         2.72\n",
      "Scenario 4b         2.69\n"
     ]
    }
   ],
   "source": [
    "print('{:<20s}{}'.format('', 'Temp score'))\n",
    "print('{:<20s}{}'.format('Scenario overview', '(mid - S1S2S3):'))\n",
    "for scenario, score in scenarios.items():\n",
    "    print('{:<20s}{:.2f}'.format(scenario, score))"
   ]
  }
 ],
 "metadata": {
  "kernelspec": {
   "display_name": "Python 3",
   "language": "python",
   "name": "python3"
  },
  "language_info": {
   "codemirror_mode": {
    "name": "ipython",
    "version": 3
   },
   "file_extension": ".py",
   "mimetype": "text/x-python",
   "name": "python",
   "nbconvert_exporter": "python",
   "pygments_lexer": "ipython3",
   "version": "3.7.8"
  },
  "pycharm": {
   "stem_cell": {
    "cell_type": "raw",
    "source": [],
    "metadata": {
     "collapsed": false
    }
   }
  }
 },
 "nbformat": 4,
 "nbformat_minor": 4
}