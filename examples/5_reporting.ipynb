{
 "cells": [
  {
   "attachments": {},
   "cell_type": "markdown",
   "metadata": {},
   "source": [
    "# SBTi-Finance Tool - Target Reporting\n",
    "This notebook is an example of how to use the tool to calculate your portfolio's temperature scores and to save results to be submitted to SBTi's Target Validation Team (TVT) for validation and approval of your own Science Based Target. This notebook generates two deliverables to submit to the TVT.\n",
    "\n",
    "1. Text formatted report in the 'Checks' section of the notebook\n",
    "2. Two anonymized excel workbooks for reproducing the portfolio temperature scores\n",
    "\n",
    "Please see the [methodology](https://sciencebasedtargets.org/wp-content/uploads/2020/09/Temperature-Rating-Methodology-V1.pdf), [guidance](https://sciencebasedtargets.org/wp-content/uploads/2020/10/Financial-Sector-Science-Based-Targets-Guidance-Pilot-Version.pdf) and the [technical documentation](https://sciencebasedtargets.github.io/SBTi-finance-tool/) for more details on how to calculate portfolio temperature scores and how to submit targets to the SBTi for validation and approval. \n",
    "\n",
    "See 1_analysis_example (on [Colab](https://colab.research.google.com/github/ScienceBasedTargets/SBTi-finance-tool/blob/main/examples/1_analysis_example.ipynb) or [Github](https://github.com/ScienceBasedTargets/SBTi-finance-tool/blob/main/examples/1_analysis_example.ipynb)) for more in depth example of how to work with Jupyter Notebooks in general and SBTi notebooks in particular. "
   ]
  },
  {
   "attachments": {},
   "cell_type": "markdown",
   "metadata": {},
   "source": [
    "## Setting up\n",
    "This section imports SBTi tools, import data providers, and load the portfolio."
   ]
  },
  {
   "cell_type": "code",
   "execution_count": null,
   "metadata": {
    "pycharm": {
     "is_executing": false,
     "name": "#%%\n"
    }
   },
   "outputs": [],
   "source": [
    "%pip install sbti-finance-tool"
   ]
  },
  {
   "cell_type": "code",
   "execution_count": null,
   "metadata": {
    "pycharm": {
     "is_executing": false,
     "name": "#%%\n"
    }
   },
   "outputs": [],
   "source": [
    "%load_ext autoreload\n",
    "%autoreload 2\n",
    "import SBTi\n",
    "from SBTi.data.excel import ExcelProvider\n",
    "from SBTi.portfolio_aggregation import PortfolioAggregationMethod\n",
    "from SBTi.portfolio_coverage_tvp import PortfolioCoverageTVP\n",
    "from SBTi.temperature_score import TemperatureScore\n",
    "from SBTi.interfaces import ETimeFrames, EScope\n",
    "import pandas as pd\n",
    "import requests"
   ]
  },
  {
   "attachments": {},
   "cell_type": "markdown",
   "metadata": {},
   "source": [
    "### Download resources for Google Colab environment\n"
   ]
  },
  {
   "cell_type": "code",
   "execution_count": null,
   "metadata": {
    "pycharm": {
     "is_executing": false,
     "name": "#%%\n"
    }
   },
   "outputs": [],
   "source": [
    "# Download the dummy data\n",
    "import urllib.request\n",
    "import os\n",
    "\n",
    "if not os.path.isdir(\"data\"):\n",
    "    os.mkdir(\"data\")\n",
    "if not os.path.isfile(\"data/data_provider_example.xlsx\"):\n",
    "    urllib.request.urlretrieve(\"https://github.com/ScienceBasedTargets/SBTi-finance-tool/raw/main/examples/data/data_provider_example.xlsx\", \"data/data_provider_example.xlsx\")\n",
    "if not os.path.isfile(\"data/example_portfolio.csv\"):\n",
    "    urllib.request.urlretrieve(\"https://github.com/ScienceBasedTargets/SBTi-finance-tool/raw/main/examples/data/example_portfolio.csv\", \"data/example_portfolio.csv\")\n",
    "if not os.path.isfile(\"utils.py\"):\n",
    "    urllib.request.urlretrieve(\"https://github.com/ScienceBasedTargets/SBTi-finance-tool/raw/main/examples/utils.py\", \"utils.py\")\n",
    "\n",
    "try:  # Import statement when run in Google Colabs\n",
    "    from utils import  print_aggregations, print_grouped_scores, anonymize, print_percentage_default_scores\n",
    "except:  # Import statement when run locally\n",
    "    from examples.utils import print_aggregations, print_grouped_scores, anonymize, print_percentage_default_scores"
   ]
  },
  {
   "attachments": {},
   "cell_type": "markdown",
   "metadata": {},
   "source": [
    "**Create a data provider**\n",
    "\n",
    "By running the following cell, you load our example data. If you want to score your own portfolio, this is where you can upload data\n",
    "from your data provider or your own data lake. Please refer to [Data Requirements](https://sciencebasedtargets.github.io/SBTi-finance-tool/DataRequirements.html#) for a\n",
    "full description of the data and formats needed.\n",
    "\n",
    "By specifying a data provider, you can connect to the data source of your choice, e.g. CDP, Urgentem, your own data lake, etc. In this\n",
    "example, the provider data is located in an Excel file.\n",
    "Per default we use the example data downloaded in the previous step.\n",
    "To replace the example data with your own data, first place your file in the data folder:\n",
    "- When using Google Colab: click the folder logo in the left pane; hover your mouse of the 'data' folder; click the three dots; click upload; select your file.\n",
    "- When running this notebook locally: place your file in the 'data' folder that is located in the same directory as this notebook.\n",
    "\n",
    "Next, change the file location between the quotes below: replace 'data_provider_example' with your_filename (don't remove the double quotes in the cell below)."
   ]
  },
  {
   "cell_type": "code",
   "execution_count": null,
   "metadata": {
    "pycharm": {
     "is_executing": false,
     "name": "#%%\n"
    }
   },
   "outputs": [],
   "source": [
    "provider = ExcelProvider(path=\"data/data_provider_example.xlsx\")"
   ]
  },
  {
   "attachments": {},
   "cell_type": "markdown",
   "metadata": {},
   "source": [
    "**Load your portfolio**\n",
    "\n",
    "In this example, the portfolio data is stored as a CSV file. If you wish to replace the portfolio file with your own portfolio file,\n",
    "your CSV file should at least have a \"company_id\" column (the identifier of the company) and a \"investment value\" column (the amount\n",
    "of money invested in each of the companies in your portfolio e.g. the value of the shares you hold). Please refer to [Data Requirements](https://sciencebasedtargets.github.io/SBTi-finance-tool/DataRequirements.html#) for a full description of the data and formats needed.\n",
    "To change the portfolio file, follow the same steps as for the data provider, described above.\n",
    "Next, change the file location between the quotes below: replace '`example_portfolio`' with your_filename (don't remove the double quotes in the cell below)."
   ]
  },
  {
   "cell_type": "code",
   "execution_count": null,
   "metadata": {
    "pycharm": {
     "is_executing": false,
     "name": "#%%\n"
    }
   },
   "outputs": [],
   "source": [
    "portfolio = pd.read_csv(\"data/example_portfolio.csv\", encoding=\"iso-8859-1\")\n",
    "\n",
    "# Change the column names\n",
    "portfolio.rename(columns={\n",
    "    'company_isin': 'isin', \n",
    "    'company_lei': 'lei'\n",
    "}, inplace=True)\n",
    "\n",
    "\n",
    "# Check for duplicate values in the 'company_id' column\n",
    "duplicate_ids = portfolio[portfolio.duplicated('company_id', keep=False)]\n",
    "if not duplicate_ids.empty:\n",
    "    print(\"Error: Duplicate values found in the 'company_id' column:\")\n",
    "    print(duplicate_ids)\n",
    "else:\n",
    "    print(\"No duplicate values found in the 'company_id' column.\")"
   ]
  },
  {
   "attachments": {},
   "cell_type": "markdown",
   "metadata": {},
   "source": [
    "The next cell displays the first 5 rows of data in your file."
   ]
  },
  {
   "cell_type": "code",
   "execution_count": null,
   "metadata": {
    "pycharm": {
     "is_executing": false,
     "name": "#%%\n"
    }
   },
   "outputs": [],
   "source": [
    "portfolio.head(5)"
   ]
  },
  {
   "attachments": {},
   "cell_type": "markdown",
   "metadata": {},
   "source": [
    "To load the data from the data provider, we need to convert the data of the portfolio."
   ]
  },
  {
   "cell_type": "code",
   "execution_count": null,
   "metadata": {
    "pycharm": {
     "is_executing": false,
     "name": "#%%\n"
    }
   },
   "outputs": [],
   "source": [
    "companies = SBTi.utils.dataframe_to_portfolio(portfolio)\n"
   ]
  },
  {
   "cell_type": "markdown",
   "metadata": {},
   "source": [
    "Import the CTA and set up a SBTi target frame of reference."
   ]
  },
  {
   "cell_type": "code",
   "execution_count": null,
   "metadata": {},
   "outputs": [],
   "source": [
    "#Provides an absolute frame of reference for SBTi targets so that they are considered as cardinal compared to others in the calculation of temperature scores.\n",
    "def inject_sbti_validation_for_timeframe_scope_data(amended_portfolio, original_portfolio, debug=True):\n",
    "    \"\"\"\n",
    "    Specially designed for the SBTi tool where amended_portfolio contains multiple rows \n",
    "    per company (one for each time frame and scope combination).\n",
    "    \"\"\"\n",
    "    if 'sbti_validated' not in original_portfolio.columns:\n",
    "        print(\"⚠ No 'sbti_validated' column found in original portfolio\")\n",
    "        return amended_portfolio\n",
    "    \n",
    "    # Store original values before modification\n",
    "    original_validated_count = original_portfolio['sbti_validated'].sum()\n",
    "    original_companies_count = len(original_portfolio)\n",
    "    \n",
    "    # Get count of unique companies in amended portfolio\n",
    "    unique_companies_amended = amended_portfolio['company_id'].nunique()\n",
    "    \n",
    "    if debug:\n",
    "        print(f\"Original portfolio: {original_companies_count} companies, {original_validated_count} validated\")\n",
    "        print(f\"Amended portfolio: {len(amended_portfolio)} rows, {unique_companies_amended} unique companies\")\n",
    "        \n",
    "        # Check for duplicated rows by company_id\n",
    "        if len(amended_portfolio) > unique_companies_amended:\n",
    "            print(f\"Multiple rows per company detected in amended portfolio\")\n",
    "            print(f\"Rows per company: {len(amended_portfolio) / unique_companies_amended:.2f}\")\n",
    "            \n",
    "            # Show distribution of time_frame and scope if they exist\n",
    "            if 'time_frame' in amended_portfolio.columns:\n",
    "                print(\"\\nTime frame distribution:\")\n",
    "                print(amended_portfolio['time_frame'].value_counts())\n",
    "            if 'scope' in amended_portfolio.columns:\n",
    "                print(\"\\nScope distribution:\")\n",
    "                print(amended_portfolio['scope'].value_counts())\n",
    "    \n",
    "    # Create a validation mapping\n",
    "    validation_map = dict(zip(original_portfolio['company_id'], original_portfolio['sbti_validated']))\n",
    "    \n",
    "    # Apply validation to all rows in amended portfolio\n",
    "    amended_portfolio['sbti_validated'] = amended_portfolio['company_id'].map(validation_map).fillna(False)\n",
    "    \n",
    "    # Count unique validated companies after modification\n",
    "    validated_companies = amended_portfolio[amended_portfolio['sbti_validated']]['company_id'].nunique()\n",
    "    \n",
    "    # Print validation summary\n",
    "    print(f\"\\nOriginal validated companies: {original_validated_count}\")\n",
    "    print(f\"Unique companies validated in amended portfolio: {validated_companies}\")\n",
    "    \n",
    "    if original_validated_count == validated_companies:\n",
    "        print(\"✓ CTA validation successfully preserved at company level\")\n",
    "    else:\n",
    "        print(\"⚠ CTA validation mismatch at company level\")\n",
    "        \n",
    "        # Additional debugging\n",
    "        if debug:\n",
    "            print(\"\\nChecking for specific discrepancies...\")\n",
    "            # Get list of company IDs that should be validated\n",
    "            original_validated_ids = set(original_portfolio[original_portfolio['sbti_validated']]['company_id'])\n",
    "            amended_validated_ids = set(amended_portfolio[amended_portfolio['sbti_validated']]['company_id'])\n",
    "            \n",
    "            missing_validations = original_validated_ids - amended_validated_ids\n",
    "            extra_validations = amended_validated_ids - original_validated_ids\n",
    "            \n",
    "            if missing_validations:\n",
    "                print(f\"Companies that should be validated but aren't: {len(missing_validations)}\")\n",
    "                print(missing_validations)\n",
    "            \n",
    "            if extra_validations:\n",
    "                print(f\"Companies that shouldn't be validated but are: {len(extra_validations)}\")\n",
    "                print(extra_validations)\n",
    "    \n",
    "    return amended_portfolio\n",
    "# STANDALONE SBTi VALIDATION - Download and process CTA data\n",
    "print(\"Downloading SBTi Companies Taking Action (CTA) data...\")\n",
    "CTA_FILE_URL = \"https://cdn.sciencebasedtargets.org/download/target-dashboard\"\n",
    "\n",
    "try:\n",
    "    resp = requests.get(CTA_FILE_URL)\n",
    "    if resp.status_code == 200:\n",
    "        cta_file = pd.read_excel(resp.content)\n",
    "        print(f\"Downloaded CTA data with {len(cta_file)} rows\")\n",
    "        \n",
    "        # Extract relevant columns\n",
    "        targets = cta_file[['company_name', 'isin', 'lei', 'action', 'target', 'date_published']]\n",
    "        \n",
    "        # Filter for companies with targets\n",
    "        companies_with_targets = targets[targets['action'] == 'Target']\n",
    "        \n",
    "        # Get unique identifiers\n",
    "        all_isin_set = set(companies_with_targets['isin'].dropna())\n",
    "        all_lei_set = set(companies_with_targets['lei'].dropna())\n",
    "        \n",
    "        # Create a set of lowercase company names\n",
    "        companies_with_targets['company_name_lower'] = companies_with_targets['company_name'].str.lower()\n",
    "        company_name_set = set(companies_with_targets['company_name_lower'].dropna())\n",
    "        \n",
    "        # Add portfolio columns if they don't exist\n",
    "        if 'isin' not in portfolio.columns and 'company_isin' in portfolio.columns:\n",
    "            portfolio['isin'] = portfolio['company_isin']\n",
    "        if 'lei' not in portfolio.columns and 'company_lei' in portfolio.columns:\n",
    "            portfolio['lei'] = portfolio['company_lei']\n",
    "        \n",
    "        # Function to check if ISIN, LEI, or company name is validated\n",
    "        def is_validated(row):\n",
    "            # First check LEI\n",
    "            if pd.notna(row.get('lei')) and str(row.get('lei')).lower() in [str(x).lower() for x in all_lei_set]:\n",
    "                return True\n",
    "            \n",
    "            # Then check ISIN\n",
    "            if pd.notna(row.get('isin')) and str(row.get('isin')).lower() in [str(x).lower() for x in all_isin_set]:\n",
    "                return True\n",
    "            \n",
    "            # Finally check company name\n",
    "            if pd.notna(row.get('company_name')):\n",
    "                company_name_lower = str(row.get('company_name')).lower()\n",
    "                if company_name_lower in company_name_set:\n",
    "                    return True\n",
    "            \n",
    "            return False\n",
    "        \n",
    "        # Add the validated column to the portfolio\n",
    "        portfolio['sbti_validated'] = portfolio.apply(is_validated, axis=1)\n",
    "        \n",
    "        # Convert portfolio to company objects again (after adding sbti_validated)\n",
    "        companies = SBTi.utils.dataframe_to_portfolio(portfolio)\n",
    "        \n",
    "        # Print validation summary\n",
    "        validated_count = portfolio['sbti_validated'].sum()\n",
    "        print(f\"Companies with SBTi-validated targets: {validated_count} out of {len(portfolio)} ({validated_count/len(portfolio)*100:.2f}%)\")\n",
    "        \n",
    "        if 'investment_value' in portfolio.columns:\n",
    "            total_investment = portfolio['investment_value'].sum()\n",
    "            validated_investment = portfolio[portfolio['sbti_validated']]['investment_value'].sum()\n",
    "            print(f\"Portfolio coverage by investment value: {validated_investment/total_investment*100:.2f}%\")\n",
    "    else:\n",
    "        print(f\"Failed to download CTA file: HTTP {resp.status_code}\")\n",
    "except Exception as e:\n",
    "    print(f\"Error processing CTA file: {str(e)}\")\n",
    "\n",
    "# Update provider data with our validation results\n",
    "print(\"Updating provider data with validated companies...\")\n",
    "try:\n",
    "    # Get the fundamental_data from provider\n",
    "    if hasattr(provider, 'data') and 'fundamental_data' in provider.data:\n",
    "        # Create a mapping of company_id to validation status\n",
    "        validation_map = portfolio[['company_id', 'sbti_validated']].set_index('company_id')['sbti_validated'].to_dict()\n",
    "        \n",
    "        # Update sbti_validated in provider data\n",
    "        updated_count = 0\n",
    "        for idx, row in provider.data['fundamental_data'].iterrows():\n",
    "            company_id = row['company_id']\n",
    "            if company_id in validation_map:\n",
    "                # Ensure we're setting a proper boolean value\n",
    "                is_validated = bool(validation_map[company_id])\n",
    "                provider.data['fundamental_data'].at[idx, 'sbti_validated'] = is_validated\n",
    "                updated_count += 1\n",
    "        \n",
    "        # Force the sbti_validated column to be boolean type\n",
    "        provider.data['fundamental_data']['sbti_validated'] = provider.data['fundamental_data']['sbti_validated'].astype(bool)\n",
    "        \n",
    "        print(f\"Updated sbti_validated for {updated_count} companies in provider data\")\n",
    "    else:\n",
    "        print(\"Provider does not have expected data structure - sbti_validated flags may be overwritten\")\n",
    "except Exception as e:\n",
    "    print(f\"Error updating provider data: {str(e)}\")"
   ]
  },
  {
   "attachments": {},
   "cell_type": "markdown",
   "metadata": {},
   "source": [
    "## Select calculation options\n",
    "Configure computational settings for the temperature score. \n",
    "You can change the default score (fallback score in the code) and aggregation method below. The values specified here are the recommended defaults by the SBTi. If you want to overwrite the recommended settings see the comments for all the options per setting"
   ]
  },
  {
   "cell_type": "code",
   "execution_count": null,
   "metadata": {
    "pycharm": {
     "is_executing": false,
     "name": "#%%\n"
    }
   },
   "outputs": [],
   "source": [
    "# Settings                                              # Other Options: \n",
    "time_frames = [SBTi.interfaces.ETimeFrames.MID]         # reporting to TVT requires 'MID'\n",
    "scopes = [EScope.S1S2, EScope.S1S2S3]                   # reporting to TVT requires 'S1S2' and 'S1S2S3'\n",
    "fallback_score = 3.2                                    # The options of the default score are 3.2, 3.9 or 4.5\n",
    "aggregation_method = PortfolioAggregationMethod.WATS    # Options for the aggregation method are WATS, TETS, AOTS, MOTS, EOTS, ECOTS, and ROTS.\n",
    "grouping = ['sector']                                   # reporting to TVT requires 'sector'"
   ]
  },
  {
   "cell_type": "code",
   "execution_count": null,
   "metadata": {
    "pycharm": {
     "is_executing": false,
     "name": "#%%\n"
    }
   },
   "outputs": [],
   "source": [
    "temperature_score = TemperatureScore(\n",
    "    time_frames=time_frames,\n",
    "    scopes=scopes,\n",
    "    fallback_score=fallback_score,\n",
    "    aggregation_method=aggregation_method,\n",
    "    grouping=grouping\n",
    ")"
   ]
  },
  {
   "attachments": {},
   "cell_type": "markdown",
   "metadata": {},
   "source": [
    "## Calculate company and portfolio temperature scores"
   ]
  },
  {
   "cell_type": "code",
   "execution_count": null,
   "metadata": {
    "pycharm": {
     "is_executing": false,
     "name": "#%%\n"
    }
   },
   "outputs": [],
   "source": [
    "amended_portfolio = temperature_score.calculate(data_providers=[provider], portfolio=companies)\n",
    "# Preserve the CTA validation from our direct download\n",
    "amended_portfolio = inject_sbti_validation_for_timeframe_scope_data(amended_portfolio, portfolio, debug=True)\n",
    "aggregated_scores = temperature_score.aggregate_scores(amended_portfolio)\n",
    "amended_portfolio.head(5) # display top 5 rows"
   ]
  },
  {
   "attachments": {},
   "cell_type": "markdown",
   "metadata": {},
   "source": [
    "## Checks\n",
    "In the cell below all figures are printed in a text format one can copy and send for validation purposes to the TVT. \n",
    "- Calculation settings\n",
    "- Portfolio coverage\n",
    "- Portfolio temperature score\n",
    "- Percentage covered by targets vs. default scores\n",
    "- Temperature Score for each sector\n",
    "\n"
   ]
  },
  {
   "cell_type": "code",
   "execution_count": null,
   "metadata": {
    "pycharm": {
     "is_executing": false,
     "name": "#%%\n"
    }
   },
   "outputs": [],
   "source": [
    "\n",
    "# Portfolio temperature score\n",
    "print('Calculation settings:')\n",
    "print()\n",
    "print('Aggregation method:\\t {}'.format(str(aggregation_method).split('.')[1]))\n",
    "print('Default score: \\t\\t {:.2f}'.format(fallback_score))\n",
    "print()\n",
    "\n",
    "# Portfolio coverage: Percentage of SBTs in portfolio\n",
    "portfolio_coverage_tvp = PortfolioCoverageTVP()\n",
    "coverage = portfolio_coverage_tvp.get_portfolio_coverage(amended_portfolio.copy(), PortfolioAggregationMethod.WATS)\n",
    "print(\"Portfolio coverage is {c:.2f}%\".format(c=coverage))\n",
    "print()\n",
    "\n",
    "print('Portfolio Temperature scores:\\n')\n",
    "print_aggregations(aggregated_scores)\n",
    "print()\n",
    "\n",
    "# Percentage of score based on default score\n",
    "print('Percentage of score based on default:\\n')\n",
    "print_percentage_default_scores(aggregated_scores)\n",
    "print()\n",
    "\n",
    "# Temperature score per sector\n",
    "print('Temperature scores per sector:')\n",
    "print_grouped_scores(aggregated_scores)\n",
    "\n",
    "\n"
   ]
  },
  {
   "attachments": {},
   "cell_type": "markdown",
   "metadata": {},
   "source": [
    "## Save anonymized data for SBTi target validation\n",
    "In order for the targets to be validated by SBTi, you can save your data locally. By running the anonymize function, you can replace company identifiers with meaningless substitutes."
   ]
  },
  {
   "cell_type": "code",
   "execution_count": null,
   "metadata": {
    "pycharm": {
     "is_executing": false,
     "name": "#%%\n"
    }
   },
   "outputs": [],
   "source": [
    "portfolio, provider = anonymize(portfolio, provider)"
   ]
  },
  {
   "attachments": {},
   "cell_type": "markdown",
   "metadata": {},
   "source": [
    "In order to store the portfolio and provider data locally, two options apply:\n",
    "1. You are running the SBTi tool locally or from Google Colab\n",
    "2. You are running the SBTi tool from a Docker container"
   ]
  },
  {
   "attachments": {},
   "cell_type": "markdown",
   "metadata": {},
   "source": [
    "If you run the SBTi tool locally or from Google Colab, you:\n",
    "- Specify and filenames in the cell below\n",
    "- Run the cell below"
   ]
  },
  {
   "cell_type": "code",
   "execution_count": null,
   "metadata": {
    "pycharm": {
     "is_executing": false,
     "name": "#%%\n"
    }
   },
   "outputs": [],
   "source": [
    "portfolio_filename = 'portfolio.xlsx'\n",
    "provider_filename = 'provider.xlsx'\n",
    "portfolio.to_excel(portfolio_filename, index=False)\n",
    "\n",
    "with pd.ExcelWriter(provider_filename, engine='openpyxl') as writer:\n",
    "    provider.data['fundamental_data'].to_excel(writer, sheet_name='fundamental_data')\n",
    "    provider.data['target_data'].to_excel(writer, sheet_name='target_data')\n"
   ]
  },
  {
   "attachments": {},
   "cell_type": "markdown",
   "metadata": {},
   "source": [
    "If you run the SBTi tool locally, you find the output files in the root folder of this notebook\n",
    "\n",
    "If you run the SBTi tool from Google Colab, you:\n",
    "- Click on the files icon in the left pane\n",
    "- Click the three dots that appear after hovering over the file\n",
    "- Download the file to your local machine"
   ]
  }
 ],
 "metadata": {
  "kernelspec": {
   "display_name": "base",
   "language": "python",
   "name": "python3"
  },
  "language_info": {
   "codemirror_mode": {
    "name": "ipython",
    "version": 3
   },
   "file_extension": ".py",
   "mimetype": "text/x-python",
   "name": "python",
   "nbconvert_exporter": "python",
   "pygments_lexer": "ipython3",
   "version": "3.12.7"
  },
  "pycharm": {
   "stem_cell": {
    "cell_type": "raw",
    "metadata": {
     "collapsed": false
    },
    "source": []
   }
  }
 },
 "nbformat": 4,
 "nbformat_minor": 1
}
