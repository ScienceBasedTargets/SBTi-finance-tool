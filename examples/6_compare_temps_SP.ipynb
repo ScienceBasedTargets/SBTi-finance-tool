{
 "cells": [
  {
   "cell_type": "markdown",
   "metadata": {},
   "source": [
    "# SBTi-Finance Tool - Check Temperature Scores from Data Provider\n",
    "This notebook can be used to compare the temperature scores delivered from data providers with the scores calculated by the SBTi's version of the tool.\n",
    "\n",
    "Please see the [methodology](https://sciencebasedtargets.org/wp-content/uploads/2020/09/Temperature-Rating-Methodology-V1.pdf), [guidance](https://sciencebasedtargets.org/wp-content/uploads/2020/10/Financial-Sector-Science-Based-Targets-Guidance-Pilot-Version.pdf) and the [technical documentation](https://sciencebasedtargets.github.io/SBTi-finance-tool/) for more details. \n",
    "\n",
    "See 1_analysis_example (on [Colab](https://colab.research.google.com/github/OFBDABV/SBTi/blob/master/examples/1_analysis_example.ipynb) or [Github](https://github.com/ScienceBasedTargets/SBTi-finance-tool/blob/master/examples/1_analysis_example.ipynb)) for more in depth example of how to work with Jupyter Notebooks in general and SBTi notebooks in particular. "
   ]
  },
  {
   "cell_type": "markdown",
   "metadata": {},
   "source": [
    "### Install the SBTi Python module\n",
    "This installs the special branch from github that is used for testing purposes by the SBTi finance team."
   ]
  },
  {
   "cell_type": "code",
   "execution_count": 1,
   "metadata": {},
   "outputs": [
    {
     "name": "stdout",
     "output_type": "stream",
     "text": [
      "Defaulting to user installation because normal site-packages is not writeable\n",
      "Requirement already satisfied: SBTi-finance-tool in /home/mountainrambler/.local/lib/python3.8/site-packages (1.0.3)\n",
      "Requirement already satisfied: pydantic==1.8.2 in /home/mountainrambler/.local/lib/python3.8/site-packages (from SBTi-finance-tool) (1.8.2)\n",
      "Requirement already satisfied: requests==2.28.1 in /home/mountainrambler/.local/lib/python3.8/site-packages (from SBTi-finance-tool) (2.28.1)\n",
      "Requirement already satisfied: pandas==1.3.4 in /home/mountainrambler/.local/lib/python3.8/site-packages (from SBTi-finance-tool) (1.3.4)\n",
      "Requirement already satisfied: xlrd==1.2.0 in /home/mountainrambler/.local/lib/python3.8/site-packages (from SBTi-finance-tool) (1.2.0)\n",
      "Requirement already satisfied: openpyxl==3.0.9 in /home/mountainrambler/.local/lib/python3.8/site-packages (from SBTi-finance-tool) (3.0.9)\n",
      "Requirement already satisfied: six==1.15.0 in /home/mountainrambler/.local/lib/python3.8/site-packages (from SBTi-finance-tool) (1.15.0)\n",
      "Requirement already satisfied: et-xmlfile in /home/mountainrambler/.local/lib/python3.8/site-packages (from openpyxl==3.0.9->SBTi-finance-tool) (1.1.0)\n",
      "Requirement already satisfied: pytz>=2017.3 in /home/mountainrambler/.local/lib/python3.8/site-packages (from pandas==1.3.4->SBTi-finance-tool) (2021.3)\n",
      "Requirement already satisfied: numpy>=1.17.3 in /home/mountainrambler/.local/lib/python3.8/site-packages (from pandas==1.3.4->SBTi-finance-tool) (1.21.1)\n",
      "Requirement already satisfied: python-dateutil>=2.7.3 in /home/mountainrambler/.local/lib/python3.8/site-packages (from pandas==1.3.4->SBTi-finance-tool) (2.8.2)\n",
      "Requirement already satisfied: typing-extensions>=3.7.4.3 in /home/mountainrambler/.local/lib/python3.8/site-packages (from pydantic==1.8.2->SBTi-finance-tool) (3.10.0.2)\n",
      "Requirement already satisfied: charset-normalizer<3,>=2 in /home/mountainrambler/.local/lib/python3.8/site-packages (from requests==2.28.1->SBTi-finance-tool) (2.0.7)\n",
      "Requirement already satisfied: certifi>=2017.4.17 in /home/mountainrambler/.local/lib/python3.8/site-packages (from requests==2.28.1->SBTi-finance-tool) (2021.10.8)\n",
      "Requirement already satisfied: urllib3<1.27,>=1.21.1 in /home/mountainrambler/.local/lib/python3.8/site-packages (from requests==2.28.1->SBTi-finance-tool) (1.25.11)\n",
      "Requirement already satisfied: idna<4,>=2.5 in /home/mountainrambler/.local/lib/python3.8/site-packages (from requests==2.28.1->SBTi-finance-tool) (2.10)\n",
      "\u001b[33mWARNING: There was an error checking the latest version of pip.\u001b[0m\u001b[33m\n",
      "\u001b[0m"
     ]
    }
   ],
   "source": [
    "%pip install SBTi-finance-tool"
   ]
  },
  {
   "cell_type": "code",
   "execution_count": 2,
   "metadata": {
    "pycharm": {
     "is_executing": false
    },
    "scrolled": true
   },
   "outputs": [],
   "source": [
    "import SBTi\n",
    "from SBTi.data.excel import ExcelProvider\n",
    "from SBTi.portfolio_aggregation import PortfolioAggregationMethod\n",
    "from SBTi.portfolio_coverage_tvp import PortfolioCoverageTVP\n",
    "from SBTi.temperature_score import TemperatureScore, Scenario\n",
    "from SBTi.target_validation import TargetProtocol\n",
    "from SBTi.interfaces import ETimeFrames, EScope\n",
    "import pandas as pd"
   ]
  },
  {
   "cell_type": "markdown",
   "metadata": {},
   "source": [
    "## Create the data directory\n",
    "This is where the data files are to be placed before continuing with the calculations. Please check out to the [Data Requirements section](https://sciencebasedtargets.github.io/SBTi/DataRequirements.html) of the technical documentation for more details on data requirements and formatting. \n"
   ]
  },
  {
   "cell_type": "code",
   "execution_count": 22,
   "metadata": {
    "pycharm": {
     "is_executing": false
    }
   },
   "outputs": [],
   "source": [
    "import urllib.request\n",
    "import os\n",
    "\n",
    "if not os.path.isdir(\"data\"):\n",
    "    os.mkdir(\"data\")\n",
    "if not os.path.isfile(\"data/full_data_provider_.xlsx\"):\n",
    "    urllib.request.urlretrieve(\"https://github.com/ScienceBasedTargets/SBTi-finance-tool/raw/Test_SP_scores/examples/data/full_data_provider.xlsx\", \"data/full_data_provider.xlsx\")\n",
    "if not os.path.isfile(\"data/testing_portfolio.csv\"):\n",
    "    urllib.request.urlretrieve(\"https://github.com/ScienceBasedTargets/SBTi-finance-tool/raw/Test_SP_scores/examples/data/testing_portfolio.csv\", \"data/testing_portfolio.csv\")\n",
    "if not os.path.isfile(\"data/SP_temperature.csv\"):\n",
    "    urllib.request.urlretrieve(\"https://github.com/ScienceBasedTargets/SBTi-finance-tool/raw/Test_SP_scores/examples/data/SP_temperature.csv\", \"data/SP_temperature.csv\")"
   ]
  },
  {
   "cell_type": "markdown",
   "metadata": {},
   "source": [
    "## Upload data files\n",
    "If your are using your own files and not the example colab file imported aboove, now is the time to upload your data files into the /data directory\n",
    "\n",
    "You need to provide three files:\n",
    "1) The original data provider file (xlsx format)\n",
    "2) The portfolio (csv)\n",
    "3) A file with the service provider's temperature scores (csv). \n",
    "\n",
    "Name the files:\n",
    "1) full_data_provider.xlsx\n",
    "2) testing_portfolio.csv\n",
    "3) SP_temperature.csv\n",
    "\n"
   ]
  },
  {
   "cell_type": "markdown",
   "metadata": {},
   "source": [
    "##### Logging\n",
    "The SBTi module uses the Python standard library logging utilities to send log messages. The log level can be changed according to the user's needs."
   ]
  },
  {
   "cell_type": "code",
   "execution_count": 23,
   "metadata": {
    "pycharm": {
     "is_executing": false
    }
   },
   "outputs": [],
   "source": [
    "import logging\n",
    "root_logger = logging.getLogger()\n",
    "root_logger.setLevel(\"INFO\")"
   ]
  },
  {
   "cell_type": "markdown",
   "metadata": {},
   "source": [
    "## Create a data provider\n",
    "If using Colab (or Jupyter) just upload the file to the data directory. Otherwise you can provicde the full path to the file in the following cell."
   ]
  },
  {
   "cell_type": "code",
   "execution_count": 24,
   "metadata": {
    "pycharm": {
     "is_executing": false
    }
   },
   "outputs": [],
   "source": [
    "provider = ExcelProvider(path=\"data/BBG_validation3/full_data_provider.xlsx\")"
   ]
  },
  {
   "cell_type": "markdown",
   "metadata": {},
   "source": [
    "## Load your portfolio\n",
    "In our case the portfolio is stored as a CSV file. The portfolio should at least have an \"id\" (the identifier of the company) and a \"proportion\" (the weight of the company in your portfolio e.g. the value of the shares you hold) column.\n",
    "\n",
    "Please see the technical documentation on [Data Legends](https://sciencebasedtargets.github.io/SBTi/Legends.html#) for details on data requirements. "
   ]
  },
  {
   "cell_type": "code",
   "execution_count": 25,
   "metadata": {
    "pycharm": {
     "is_executing": false
    }
   },
   "outputs": [],
   "source": [
    "df_portfolio = pd.read_csv(\"data/BBG_validation3/portfolio_BBGTR20220823.csv\", encoding=\"iso-8859-1\")"
   ]
  },
  {
   "cell_type": "code",
   "execution_count": 26,
   "metadata": {
    "pycharm": {
     "is_executing": false
    }
   },
   "outputs": [
    {
     "data": {
      "text/html": [
       "<div>\n",
       "<style scoped>\n",
       "    .dataframe tbody tr th:only-of-type {\n",
       "        vertical-align: middle;\n",
       "    }\n",
       "\n",
       "    .dataframe tbody tr th {\n",
       "        vertical-align: top;\n",
       "    }\n",
       "\n",
       "    .dataframe thead th {\n",
       "        text-align: right;\n",
       "    }\n",
       "</style>\n",
       "<table border=\"1\" class=\"dataframe\">\n",
       "  <thead>\n",
       "    <tr style=\"text-align: right;\">\n",
       "      <th></th>\n",
       "      <th>company_id</th>\n",
       "      <th>company_isin</th>\n",
       "      <th>company_name</th>\n",
       "      <th>investment_value</th>\n",
       "      <th>engagement_target</th>\n",
       "    </tr>\n",
       "  </thead>\n",
       "  <tbody>\n",
       "    <tr>\n",
       "      <th>0</th>\n",
       "      <td>000050CH</td>\n",
       "      <td>CNE000000HT1</td>\n",
       "      <td>TIANMA MICROELECTRONICS-A</td>\n",
       "      <td>1000</td>\n",
       "      <td>False</td>\n",
       "    </tr>\n",
       "    <tr>\n",
       "      <th>1</th>\n",
       "      <td>000210KS</td>\n",
       "      <td>KR7000210005</td>\n",
       "      <td>DL HOLDINGS CO LTD</td>\n",
       "      <td>1000</td>\n",
       "      <td>False</td>\n",
       "    </tr>\n",
       "    <tr>\n",
       "      <th>2</th>\n",
       "      <td>000270KS</td>\n",
       "      <td>KR7000270009</td>\n",
       "      <td>KIA CORP</td>\n",
       "      <td>1000</td>\n",
       "      <td>False</td>\n",
       "    </tr>\n",
       "    <tr>\n",
       "      <th>3</th>\n",
       "      <td>000559CH</td>\n",
       "      <td>CNE000000FB3</td>\n",
       "      <td>WANXIANG QIANCHAO CO LTD-A</td>\n",
       "      <td>1000</td>\n",
       "      <td>False</td>\n",
       "    </tr>\n",
       "    <tr>\n",
       "      <th>4</th>\n",
       "      <td>000660KS</td>\n",
       "      <td>KR7000660001</td>\n",
       "      <td>SK HYNIX INC</td>\n",
       "      <td>1000</td>\n",
       "      <td>False</td>\n",
       "    </tr>\n",
       "  </tbody>\n",
       "</table>\n",
       "</div>"
      ],
      "text/plain": [
       "  company_id  company_isin                company_name  investment_value  \\\n",
       "0   000050CH  CNE000000HT1   TIANMA MICROELECTRONICS-A              1000   \n",
       "1   000210KS  KR7000210005          DL HOLDINGS CO LTD              1000   \n",
       "2   000270KS  KR7000270009                    KIA CORP              1000   \n",
       "3   000559CH  CNE000000FB3  WANXIANG QIANCHAO CO LTD-A              1000   \n",
       "4   000660KS  KR7000660001                SK HYNIX INC              1000   \n",
       "\n",
       "   engagement_target  \n",
       "0              False  \n",
       "1              False  \n",
       "2              False  \n",
       "3              False  \n",
       "4              False  "
      ]
     },
     "execution_count": 26,
     "metadata": {},
     "output_type": "execute_result"
    }
   ],
   "source": [
    "df_portfolio.head(5)"
   ]
  },
  {
   "cell_type": "markdown",
   "metadata": {},
   "source": [
    "To load the data from the data provider, we have to pass a list of IPortfolioCompany instances. The module has a strict [data model](https://sciencebasedtargets.github.io/SBTi-finance-tool/autoapi/SBTi/interfaces/index.html) to convert Pandas Dataframe to the right object types we supplied a utility function.\n"
   ]
  },
  {
   "cell_type": "code",
   "execution_count": 27,
   "metadata": {
    "pycharm": {
     "is_executing": false
    }
   },
   "outputs": [],
   "source": [
    "companies = SBTi.utils.dataframe_to_portfolio(df_portfolio)"
   ]
  },
  {
   "cell_type": "code",
   "execution_count": 28,
   "metadata": {},
   "outputs": [
    {
     "data": {
      "text/plain": [
       "PortfolioCompany(company_name='DL HOLDINGS CO LTD', company_id='000210KS', company_isin='KR7000210005', investment_value=1000.0, engagement_target=False, user_fields=None)"
      ]
     },
     "execution_count": 28,
     "metadata": {},
     "output_type": "execute_result"
    }
   ],
   "source": [
    "companies[1]"
   ]
  },
  {
   "cell_type": "markdown",
   "metadata": {},
   "source": [
    "## Calculate the temperature scores\n",
    "In the amended portfolio you'll find your original portfolio, amended with the emissions and the temperature score.\n",
    "Note that these are the reference temperatures that we will check the SO against."
   ]
  },
  {
   "cell_type": "code",
   "execution_count": 29,
   "metadata": {
    "pycharm": {
     "is_executing": false
    }
   },
   "outputs": [
    {
     "name": "stderr",
     "output_type": "stream",
     "text": [
      "/home/mountainrambler/.local/lib/python3.8/site-packages/SBTi/target_validation.py:303: PerformanceWarning: indexing past lexsort depth may impact performance.\n",
      "  :param target_columns: The columns that need to be returned\n"
     ]
    }
   ],
   "source": [
    "temperature_score = TemperatureScore(                  # all available options:\n",
    "    time_frames=list(SBTi.interfaces.ETimeFrames),     # ETimeFrames: SHORT MID and LONG\n",
    "    scopes=[EScope.S1S2, EScope.S3, EScope.S1S2S3],    # EScopes: S3, S1S2 and S1S2S3\n",
    "    aggregation_method=PortfolioAggregationMethod.WATS # Options for the aggregation method are WATS, TETS, AOTS, MOTS, EOTS, ECOTS, and ROTS.\n",
    ")\n",
    "amended_portfolio = temperature_score.calculate(data_providers=[provider], portfolio=companies)"
   ]
  },
  {
   "cell_type": "markdown",
   "metadata": {},
   "source": [
    "For every company the tool assigns a score for all the requested timeframe and scope combinations. In this example we used the full set resulting in 9 scores per company as displayed below:"
   ]
  },
  {
   "cell_type": "code",
   "execution_count": 31,
   "metadata": {
    "pycharm": {
     "is_executing": false
    }
   },
   "outputs": [
    {
     "data": {
      "text/html": [
       "<div>\n",
       "<style scoped>\n",
       "    .dataframe tbody tr th:only-of-type {\n",
       "        vertical-align: middle;\n",
       "    }\n",
       "\n",
       "    .dataframe tbody tr th {\n",
       "        vertical-align: top;\n",
       "    }\n",
       "\n",
       "    .dataframe thead th {\n",
       "        text-align: right;\n",
       "    }\n",
       "</style>\n",
       "<table border=\"1\" class=\"dataframe\">\n",
       "  <thead>\n",
       "    <tr style=\"text-align: right;\">\n",
       "      <th></th>\n",
       "      <th>company_id</th>\n",
       "      <th>time_frame</th>\n",
       "      <th>scope</th>\n",
       "      <th>target_type</th>\n",
       "      <th>intensity_metric</th>\n",
       "      <th>coverage_s1</th>\n",
       "      <th>coverage_s2</th>\n",
       "      <th>coverage_s3</th>\n",
       "      <th>reduction_ambition</th>\n",
       "      <th>base_year</th>\n",
       "      <th>base_year_ghg_s1</th>\n",
       "      <th>base_year_ghg_s2</th>\n",
       "      <th>base_year_ghg_s3</th>\n",
       "      <th>start_year</th>\n",
       "      <th>end_year</th>\n",
       "      <th>achieved_reduction</th>\n",
       "      <th>company_name</th>\n",
       "      <th>isic</th>\n",
       "      <th>ghg_s1s2</th>\n",
       "      <th>ghg_s3</th>\n",
       "      <th>country</th>\n",
       "      <th>region</th>\n",
       "      <th>sector</th>\n",
       "      <th>industry_level_1</th>\n",
       "      <th>industry_level_2</th>\n",
       "      <th>industry_level_3</th>\n",
       "      <th>industry_level_4</th>\n",
       "      <th>company_revenue</th>\n",
       "      <th>company_market_cap</th>\n",
       "      <th>company_enterprise_value</th>\n",
       "      <th>company_total_assets</th>\n",
       "      <th>company_cash_equivalents</th>\n",
       "      <th>sbti_validated</th>\n",
       "      <th>company_isin</th>\n",
       "      <th>investment_value</th>\n",
       "      <th>engagement_target</th>\n",
       "      <th>sr15</th>\n",
       "      <th>annual_reduction_rate</th>\n",
       "      <th>slope</th>\n",
       "      <th>samplesize</th>\n",
       "      <th>model</th>\n",
       "      <th>variable</th>\n",
       "      <th>param</th>\n",
       "      <th>intercept</th>\n",
       "      <th>r2</th>\n",
       "      <th>temperature_score</th>\n",
       "      <th>temperature_results</th>\n",
       "    </tr>\n",
       "  </thead>\n",
       "  <tbody>\n",
       "    <tr>\n",
       "      <th>0</th>\n",
       "      <td>AMDUS</td>\n",
       "      <td>SHORT</td>\n",
       "      <td>S1S2</td>\n",
       "      <td>Absolute</td>\n",
       "      <td>nan</td>\n",
       "      <td>0.95</td>\n",
       "      <td>0.95</td>\n",
       "      <td>NaN</td>\n",
       "      <td>0.2</td>\n",
       "      <td>2014.0</td>\n",
       "      <td>55120.998383</td>\n",
       "      <td>145832.000732</td>\n",
       "      <td>5.132210e+06</td>\n",
       "      <td>2014.0</td>\n",
       "      <td>2020.0</td>\n",
       "      <td>NaN</td>\n",
       "      <td>Advanced Micro Devices Inc</td>\n",
       "      <td>H50</td>\n",
       "      <td>32250.999451</td>\n",
       "      <td>5.554650e+06</td>\n",
       "      <td>UNITED STATES</td>\n",
       "      <td>None</td>\n",
       "      <td>None</td>\n",
       "      <td>Technology</td>\n",
       "      <td>Tech Hardware &amp; Semiconductors</td>\n",
       "      <td>Semiconductors</td>\n",
       "      <td>Semiconductor Devices</td>\n",
       "      <td>16434.0</td>\n",
       "      <td>162771.976347</td>\n",
       "      <td>159978.976347</td>\n",
       "      <td>12419.0</td>\n",
       "      <td>2535.0</td>\n",
       "      <td>True</td>\n",
       "      <td>US0079031078</td>\n",
       "      <td>1000.0</td>\n",
       "      <td>False</td>\n",
       "      <td>Emissions|Kyoto Gases</td>\n",
       "      <td>0.033333</td>\n",
       "      <td>slope5</td>\n",
       "      <td>128.0</td>\n",
       "      <td>4.0</td>\n",
       "      <td>Emissions|Kyoto Gases</td>\n",
       "      <td>-0.212692</td>\n",
       "      <td>2.574303</td>\n",
       "      <td>0.609039</td>\n",
       "      <td>1.87</td>\n",
       "      <td>0.000000</td>\n",
       "    </tr>\n",
       "    <tr>\n",
       "      <th>1</th>\n",
       "      <td>AMDUS</td>\n",
       "      <td>SHORT</td>\n",
       "      <td>S3</td>\n",
       "      <td>absolute</td>\n",
       "      <td>None</td>\n",
       "      <td>NaN</td>\n",
       "      <td>NaN</td>\n",
       "      <td>NaN</td>\n",
       "      <td>NaN</td>\n",
       "      <td>NaN</td>\n",
       "      <td>NaN</td>\n",
       "      <td>NaN</td>\n",
       "      <td>NaN</td>\n",
       "      <td>NaN</td>\n",
       "      <td>NaN</td>\n",
       "      <td>NaN</td>\n",
       "      <td>Advanced Micro Devices Inc</td>\n",
       "      <td>H50</td>\n",
       "      <td>32250.999451</td>\n",
       "      <td>5.554650e+06</td>\n",
       "      <td>UNITED STATES</td>\n",
       "      <td>None</td>\n",
       "      <td>None</td>\n",
       "      <td>Technology</td>\n",
       "      <td>Tech Hardware &amp; Semiconductors</td>\n",
       "      <td>Semiconductors</td>\n",
       "      <td>Semiconductor Devices</td>\n",
       "      <td>16434.0</td>\n",
       "      <td>162771.976347</td>\n",
       "      <td>159978.976347</td>\n",
       "      <td>12419.0</td>\n",
       "      <td>2535.0</td>\n",
       "      <td>True</td>\n",
       "      <td>US0079031078</td>\n",
       "      <td>1000.0</td>\n",
       "      <td>False</td>\n",
       "      <td>Emissions|Kyoto Gases</td>\n",
       "      <td>NaN</td>\n",
       "      <td>slope5</td>\n",
       "      <td>128.0</td>\n",
       "      <td>4.0</td>\n",
       "      <td>Emissions|Kyoto Gases</td>\n",
       "      <td>-0.212692</td>\n",
       "      <td>2.574303</td>\n",
       "      <td>0.609039</td>\n",
       "      <td>3.20</td>\n",
       "      <td>1.000000</td>\n",
       "    </tr>\n",
       "    <tr>\n",
       "      <th>2</th>\n",
       "      <td>AMDUS</td>\n",
       "      <td>SHORT</td>\n",
       "      <td>S1S2S3</td>\n",
       "      <td>absolute</td>\n",
       "      <td>None</td>\n",
       "      <td>NaN</td>\n",
       "      <td>NaN</td>\n",
       "      <td>NaN</td>\n",
       "      <td>NaN</td>\n",
       "      <td>NaN</td>\n",
       "      <td>NaN</td>\n",
       "      <td>NaN</td>\n",
       "      <td>NaN</td>\n",
       "      <td>NaN</td>\n",
       "      <td>NaN</td>\n",
       "      <td>NaN</td>\n",
       "      <td>Advanced Micro Devices Inc</td>\n",
       "      <td>H50</td>\n",
       "      <td>32250.999451</td>\n",
       "      <td>5.554650e+06</td>\n",
       "      <td>UNITED STATES</td>\n",
       "      <td>None</td>\n",
       "      <td>None</td>\n",
       "      <td>Technology</td>\n",
       "      <td>Tech Hardware &amp; Semiconductors</td>\n",
       "      <td>Semiconductors</td>\n",
       "      <td>Semiconductor Devices</td>\n",
       "      <td>16434.0</td>\n",
       "      <td>162771.976347</td>\n",
       "      <td>159978.976347</td>\n",
       "      <td>12419.0</td>\n",
       "      <td>2535.0</td>\n",
       "      <td>True</td>\n",
       "      <td>US0079031078</td>\n",
       "      <td>1000.0</td>\n",
       "      <td>False</td>\n",
       "      <td>None</td>\n",
       "      <td>NaN</td>\n",
       "      <td>slope5</td>\n",
       "      <td>NaN</td>\n",
       "      <td>NaN</td>\n",
       "      <td>NaN</td>\n",
       "      <td>NaN</td>\n",
       "      <td>NaN</td>\n",
       "      <td>NaN</td>\n",
       "      <td>3.19</td>\n",
       "      <td>0.994227</td>\n",
       "    </tr>\n",
       "    <tr>\n",
       "      <th>3</th>\n",
       "      <td>AMDUS</td>\n",
       "      <td>MID</td>\n",
       "      <td>S1S2</td>\n",
       "      <td>absolute</td>\n",
       "      <td>None</td>\n",
       "      <td>NaN</td>\n",
       "      <td>NaN</td>\n",
       "      <td>NaN</td>\n",
       "      <td>NaN</td>\n",
       "      <td>NaN</td>\n",
       "      <td>NaN</td>\n",
       "      <td>NaN</td>\n",
       "      <td>NaN</td>\n",
       "      <td>NaN</td>\n",
       "      <td>NaN</td>\n",
       "      <td>NaN</td>\n",
       "      <td>Advanced Micro Devices Inc</td>\n",
       "      <td>H50</td>\n",
       "      <td>32250.999451</td>\n",
       "      <td>5.554650e+06</td>\n",
       "      <td>UNITED STATES</td>\n",
       "      <td>None</td>\n",
       "      <td>None</td>\n",
       "      <td>Technology</td>\n",
       "      <td>Tech Hardware &amp; Semiconductors</td>\n",
       "      <td>Semiconductors</td>\n",
       "      <td>Semiconductor Devices</td>\n",
       "      <td>16434.0</td>\n",
       "      <td>162771.976347</td>\n",
       "      <td>159978.976347</td>\n",
       "      <td>12419.0</td>\n",
       "      <td>2535.0</td>\n",
       "      <td>True</td>\n",
       "      <td>US0079031078</td>\n",
       "      <td>1000.0</td>\n",
       "      <td>False</td>\n",
       "      <td>Emissions|Kyoto Gases</td>\n",
       "      <td>NaN</td>\n",
       "      <td>slope15</td>\n",
       "      <td>128.0</td>\n",
       "      <td>4.0</td>\n",
       "      <td>Emissions|Kyoto Gases</td>\n",
       "      <td>-0.312329</td>\n",
       "      <td>2.697261</td>\n",
       "      <td>0.829523</td>\n",
       "      <td>3.20</td>\n",
       "      <td>1.000000</td>\n",
       "    </tr>\n",
       "    <tr>\n",
       "      <th>4</th>\n",
       "      <td>AMDUS</td>\n",
       "      <td>MID</td>\n",
       "      <td>S3</td>\n",
       "      <td>absolute</td>\n",
       "      <td>None</td>\n",
       "      <td>NaN</td>\n",
       "      <td>NaN</td>\n",
       "      <td>NaN</td>\n",
       "      <td>NaN</td>\n",
       "      <td>NaN</td>\n",
       "      <td>NaN</td>\n",
       "      <td>NaN</td>\n",
       "      <td>NaN</td>\n",
       "      <td>NaN</td>\n",
       "      <td>NaN</td>\n",
       "      <td>NaN</td>\n",
       "      <td>Advanced Micro Devices Inc</td>\n",
       "      <td>H50</td>\n",
       "      <td>32250.999451</td>\n",
       "      <td>5.554650e+06</td>\n",
       "      <td>UNITED STATES</td>\n",
       "      <td>None</td>\n",
       "      <td>None</td>\n",
       "      <td>Technology</td>\n",
       "      <td>Tech Hardware &amp; Semiconductors</td>\n",
       "      <td>Semiconductors</td>\n",
       "      <td>Semiconductor Devices</td>\n",
       "      <td>16434.0</td>\n",
       "      <td>162771.976347</td>\n",
       "      <td>159978.976347</td>\n",
       "      <td>12419.0</td>\n",
       "      <td>2535.0</td>\n",
       "      <td>True</td>\n",
       "      <td>US0079031078</td>\n",
       "      <td>1000.0</td>\n",
       "      <td>False</td>\n",
       "      <td>Emissions|Kyoto Gases</td>\n",
       "      <td>NaN</td>\n",
       "      <td>slope15</td>\n",
       "      <td>128.0</td>\n",
       "      <td>4.0</td>\n",
       "      <td>Emissions|Kyoto Gases</td>\n",
       "      <td>-0.312329</td>\n",
       "      <td>2.697261</td>\n",
       "      <td>0.829523</td>\n",
       "      <td>3.20</td>\n",
       "      <td>1.000000</td>\n",
       "    </tr>\n",
       "    <tr>\n",
       "      <th>5</th>\n",
       "      <td>AMDUS</td>\n",
       "      <td>MID</td>\n",
       "      <td>S1S2S3</td>\n",
       "      <td>absolute</td>\n",
       "      <td>None</td>\n",
       "      <td>NaN</td>\n",
       "      <td>NaN</td>\n",
       "      <td>NaN</td>\n",
       "      <td>NaN</td>\n",
       "      <td>NaN</td>\n",
       "      <td>NaN</td>\n",
       "      <td>NaN</td>\n",
       "      <td>NaN</td>\n",
       "      <td>NaN</td>\n",
       "      <td>NaN</td>\n",
       "      <td>NaN</td>\n",
       "      <td>Advanced Micro Devices Inc</td>\n",
       "      <td>H50</td>\n",
       "      <td>32250.999451</td>\n",
       "      <td>5.554650e+06</td>\n",
       "      <td>UNITED STATES</td>\n",
       "      <td>None</td>\n",
       "      <td>None</td>\n",
       "      <td>Technology</td>\n",
       "      <td>Tech Hardware &amp; Semiconductors</td>\n",
       "      <td>Semiconductors</td>\n",
       "      <td>Semiconductor Devices</td>\n",
       "      <td>16434.0</td>\n",
       "      <td>162771.976347</td>\n",
       "      <td>159978.976347</td>\n",
       "      <td>12419.0</td>\n",
       "      <td>2535.0</td>\n",
       "      <td>True</td>\n",
       "      <td>US0079031078</td>\n",
       "      <td>1000.0</td>\n",
       "      <td>False</td>\n",
       "      <td>None</td>\n",
       "      <td>NaN</td>\n",
       "      <td>slope15</td>\n",
       "      <td>NaN</td>\n",
       "      <td>NaN</td>\n",
       "      <td>NaN</td>\n",
       "      <td>NaN</td>\n",
       "      <td>NaN</td>\n",
       "      <td>NaN</td>\n",
       "      <td>3.20</td>\n",
       "      <td>1.000000</td>\n",
       "    </tr>\n",
       "    <tr>\n",
       "      <th>6</th>\n",
       "      <td>AMDUS</td>\n",
       "      <td>LONG</td>\n",
       "      <td>S1S2</td>\n",
       "      <td>absolute</td>\n",
       "      <td>None</td>\n",
       "      <td>NaN</td>\n",
       "      <td>NaN</td>\n",
       "      <td>NaN</td>\n",
       "      <td>NaN</td>\n",
       "      <td>NaN</td>\n",
       "      <td>NaN</td>\n",
       "      <td>NaN</td>\n",
       "      <td>NaN</td>\n",
       "      <td>NaN</td>\n",
       "      <td>NaN</td>\n",
       "      <td>NaN</td>\n",
       "      <td>Advanced Micro Devices Inc</td>\n",
       "      <td>H50</td>\n",
       "      <td>32250.999451</td>\n",
       "      <td>5.554650e+06</td>\n",
       "      <td>UNITED STATES</td>\n",
       "      <td>None</td>\n",
       "      <td>None</td>\n",
       "      <td>Technology</td>\n",
       "      <td>Tech Hardware &amp; Semiconductors</td>\n",
       "      <td>Semiconductors</td>\n",
       "      <td>Semiconductor Devices</td>\n",
       "      <td>16434.0</td>\n",
       "      <td>162771.976347</td>\n",
       "      <td>159978.976347</td>\n",
       "      <td>12419.0</td>\n",
       "      <td>2535.0</td>\n",
       "      <td>True</td>\n",
       "      <td>US0079031078</td>\n",
       "      <td>1000.0</td>\n",
       "      <td>False</td>\n",
       "      <td>Emissions|Kyoto Gases</td>\n",
       "      <td>NaN</td>\n",
       "      <td>slope30</td>\n",
       "      <td>128.0</td>\n",
       "      <td>4.0</td>\n",
       "      <td>Emissions|Kyoto Gases</td>\n",
       "      <td>-0.483331</td>\n",
       "      <td>2.841338</td>\n",
       "      <td>0.925768</td>\n",
       "      <td>3.20</td>\n",
       "      <td>1.000000</td>\n",
       "    </tr>\n",
       "    <tr>\n",
       "      <th>7</th>\n",
       "      <td>AMDUS</td>\n",
       "      <td>LONG</td>\n",
       "      <td>S3</td>\n",
       "      <td>absolute</td>\n",
       "      <td>None</td>\n",
       "      <td>NaN</td>\n",
       "      <td>NaN</td>\n",
       "      <td>NaN</td>\n",
       "      <td>NaN</td>\n",
       "      <td>NaN</td>\n",
       "      <td>NaN</td>\n",
       "      <td>NaN</td>\n",
       "      <td>NaN</td>\n",
       "      <td>NaN</td>\n",
       "      <td>NaN</td>\n",
       "      <td>NaN</td>\n",
       "      <td>Advanced Micro Devices Inc</td>\n",
       "      <td>H50</td>\n",
       "      <td>32250.999451</td>\n",
       "      <td>5.554650e+06</td>\n",
       "      <td>UNITED STATES</td>\n",
       "      <td>None</td>\n",
       "      <td>None</td>\n",
       "      <td>Technology</td>\n",
       "      <td>Tech Hardware &amp; Semiconductors</td>\n",
       "      <td>Semiconductors</td>\n",
       "      <td>Semiconductor Devices</td>\n",
       "      <td>16434.0</td>\n",
       "      <td>162771.976347</td>\n",
       "      <td>159978.976347</td>\n",
       "      <td>12419.0</td>\n",
       "      <td>2535.0</td>\n",
       "      <td>True</td>\n",
       "      <td>US0079031078</td>\n",
       "      <td>1000.0</td>\n",
       "      <td>False</td>\n",
       "      <td>Emissions|Kyoto Gases</td>\n",
       "      <td>NaN</td>\n",
       "      <td>slope30</td>\n",
       "      <td>128.0</td>\n",
       "      <td>4.0</td>\n",
       "      <td>Emissions|Kyoto Gases</td>\n",
       "      <td>-0.483331</td>\n",
       "      <td>2.841338</td>\n",
       "      <td>0.925768</td>\n",
       "      <td>3.20</td>\n",
       "      <td>1.000000</td>\n",
       "    </tr>\n",
       "    <tr>\n",
       "      <th>8</th>\n",
       "      <td>AMDUS</td>\n",
       "      <td>LONG</td>\n",
       "      <td>S1S2S3</td>\n",
       "      <td>absolute</td>\n",
       "      <td>None</td>\n",
       "      <td>NaN</td>\n",
       "      <td>NaN</td>\n",
       "      <td>NaN</td>\n",
       "      <td>NaN</td>\n",
       "      <td>NaN</td>\n",
       "      <td>NaN</td>\n",
       "      <td>NaN</td>\n",
       "      <td>NaN</td>\n",
       "      <td>NaN</td>\n",
       "      <td>NaN</td>\n",
       "      <td>NaN</td>\n",
       "      <td>Advanced Micro Devices Inc</td>\n",
       "      <td>H50</td>\n",
       "      <td>32250.999451</td>\n",
       "      <td>5.554650e+06</td>\n",
       "      <td>UNITED STATES</td>\n",
       "      <td>None</td>\n",
       "      <td>None</td>\n",
       "      <td>Technology</td>\n",
       "      <td>Tech Hardware &amp; Semiconductors</td>\n",
       "      <td>Semiconductors</td>\n",
       "      <td>Semiconductor Devices</td>\n",
       "      <td>16434.0</td>\n",
       "      <td>162771.976347</td>\n",
       "      <td>159978.976347</td>\n",
       "      <td>12419.0</td>\n",
       "      <td>2535.0</td>\n",
       "      <td>True</td>\n",
       "      <td>US0079031078</td>\n",
       "      <td>1000.0</td>\n",
       "      <td>False</td>\n",
       "      <td>None</td>\n",
       "      <td>NaN</td>\n",
       "      <td>slope30</td>\n",
       "      <td>NaN</td>\n",
       "      <td>NaN</td>\n",
       "      <td>NaN</td>\n",
       "      <td>NaN</td>\n",
       "      <td>NaN</td>\n",
       "      <td>NaN</td>\n",
       "      <td>3.20</td>\n",
       "      <td>1.000000</td>\n",
       "    </tr>\n",
       "  </tbody>\n",
       "</table>\n",
       "</div>"
      ],
      "text/plain": [
       "  company_id time_frame   scope target_type intensity_metric  coverage_s1  \\\n",
       "0      AMDUS      SHORT    S1S2    Absolute              nan         0.95   \n",
       "1      AMDUS      SHORT      S3    absolute             None          NaN   \n",
       "2      AMDUS      SHORT  S1S2S3    absolute             None          NaN   \n",
       "3      AMDUS        MID    S1S2    absolute             None          NaN   \n",
       "4      AMDUS        MID      S3    absolute             None          NaN   \n",
       "5      AMDUS        MID  S1S2S3    absolute             None          NaN   \n",
       "6      AMDUS       LONG    S1S2    absolute             None          NaN   \n",
       "7      AMDUS       LONG      S3    absolute             None          NaN   \n",
       "8      AMDUS       LONG  S1S2S3    absolute             None          NaN   \n",
       "\n",
       "   coverage_s2  coverage_s3  reduction_ambition  base_year  base_year_ghg_s1  \\\n",
       "0         0.95          NaN                 0.2     2014.0      55120.998383   \n",
       "1          NaN          NaN                 NaN        NaN               NaN   \n",
       "2          NaN          NaN                 NaN        NaN               NaN   \n",
       "3          NaN          NaN                 NaN        NaN               NaN   \n",
       "4          NaN          NaN                 NaN        NaN               NaN   \n",
       "5          NaN          NaN                 NaN        NaN               NaN   \n",
       "6          NaN          NaN                 NaN        NaN               NaN   \n",
       "7          NaN          NaN                 NaN        NaN               NaN   \n",
       "8          NaN          NaN                 NaN        NaN               NaN   \n",
       "\n",
       "   base_year_ghg_s2  base_year_ghg_s3  start_year  end_year  \\\n",
       "0     145832.000732      5.132210e+06      2014.0    2020.0   \n",
       "1               NaN               NaN         NaN       NaN   \n",
       "2               NaN               NaN         NaN       NaN   \n",
       "3               NaN               NaN         NaN       NaN   \n",
       "4               NaN               NaN         NaN       NaN   \n",
       "5               NaN               NaN         NaN       NaN   \n",
       "6               NaN               NaN         NaN       NaN   \n",
       "7               NaN               NaN         NaN       NaN   \n",
       "8               NaN               NaN         NaN       NaN   \n",
       "\n",
       "   achieved_reduction                company_name isic      ghg_s1s2  \\\n",
       "0                 NaN  Advanced Micro Devices Inc  H50  32250.999451   \n",
       "1                 NaN  Advanced Micro Devices Inc  H50  32250.999451   \n",
       "2                 NaN  Advanced Micro Devices Inc  H50  32250.999451   \n",
       "3                 NaN  Advanced Micro Devices Inc  H50  32250.999451   \n",
       "4                 NaN  Advanced Micro Devices Inc  H50  32250.999451   \n",
       "5                 NaN  Advanced Micro Devices Inc  H50  32250.999451   \n",
       "6                 NaN  Advanced Micro Devices Inc  H50  32250.999451   \n",
       "7                 NaN  Advanced Micro Devices Inc  H50  32250.999451   \n",
       "8                 NaN  Advanced Micro Devices Inc  H50  32250.999451   \n",
       "\n",
       "         ghg_s3        country region sector industry_level_1  \\\n",
       "0  5.554650e+06  UNITED STATES   None   None       Technology   \n",
       "1  5.554650e+06  UNITED STATES   None   None       Technology   \n",
       "2  5.554650e+06  UNITED STATES   None   None       Technology   \n",
       "3  5.554650e+06  UNITED STATES   None   None       Technology   \n",
       "4  5.554650e+06  UNITED STATES   None   None       Technology   \n",
       "5  5.554650e+06  UNITED STATES   None   None       Technology   \n",
       "6  5.554650e+06  UNITED STATES   None   None       Technology   \n",
       "7  5.554650e+06  UNITED STATES   None   None       Technology   \n",
       "8  5.554650e+06  UNITED STATES   None   None       Technology   \n",
       "\n",
       "                 industry_level_2 industry_level_3       industry_level_4  \\\n",
       "0  Tech Hardware & Semiconductors   Semiconductors  Semiconductor Devices   \n",
       "1  Tech Hardware & Semiconductors   Semiconductors  Semiconductor Devices   \n",
       "2  Tech Hardware & Semiconductors   Semiconductors  Semiconductor Devices   \n",
       "3  Tech Hardware & Semiconductors   Semiconductors  Semiconductor Devices   \n",
       "4  Tech Hardware & Semiconductors   Semiconductors  Semiconductor Devices   \n",
       "5  Tech Hardware & Semiconductors   Semiconductors  Semiconductor Devices   \n",
       "6  Tech Hardware & Semiconductors   Semiconductors  Semiconductor Devices   \n",
       "7  Tech Hardware & Semiconductors   Semiconductors  Semiconductor Devices   \n",
       "8  Tech Hardware & Semiconductors   Semiconductors  Semiconductor Devices   \n",
       "\n",
       "   company_revenue  company_market_cap  company_enterprise_value  \\\n",
       "0          16434.0       162771.976347             159978.976347   \n",
       "1          16434.0       162771.976347             159978.976347   \n",
       "2          16434.0       162771.976347             159978.976347   \n",
       "3          16434.0       162771.976347             159978.976347   \n",
       "4          16434.0       162771.976347             159978.976347   \n",
       "5          16434.0       162771.976347             159978.976347   \n",
       "6          16434.0       162771.976347             159978.976347   \n",
       "7          16434.0       162771.976347             159978.976347   \n",
       "8          16434.0       162771.976347             159978.976347   \n",
       "\n",
       "   company_total_assets  company_cash_equivalents  sbti_validated  \\\n",
       "0               12419.0                    2535.0            True   \n",
       "1               12419.0                    2535.0            True   \n",
       "2               12419.0                    2535.0            True   \n",
       "3               12419.0                    2535.0            True   \n",
       "4               12419.0                    2535.0            True   \n",
       "5               12419.0                    2535.0            True   \n",
       "6               12419.0                    2535.0            True   \n",
       "7               12419.0                    2535.0            True   \n",
       "8               12419.0                    2535.0            True   \n",
       "\n",
       "   company_isin  investment_value  engagement_target                   sr15  \\\n",
       "0  US0079031078            1000.0              False  Emissions|Kyoto Gases   \n",
       "1  US0079031078            1000.0              False  Emissions|Kyoto Gases   \n",
       "2  US0079031078            1000.0              False                   None   \n",
       "3  US0079031078            1000.0              False  Emissions|Kyoto Gases   \n",
       "4  US0079031078            1000.0              False  Emissions|Kyoto Gases   \n",
       "5  US0079031078            1000.0              False                   None   \n",
       "6  US0079031078            1000.0              False  Emissions|Kyoto Gases   \n",
       "7  US0079031078            1000.0              False  Emissions|Kyoto Gases   \n",
       "8  US0079031078            1000.0              False                   None   \n",
       "\n",
       "   annual_reduction_rate    slope  samplesize  model               variable  \\\n",
       "0               0.033333   slope5       128.0    4.0  Emissions|Kyoto Gases   \n",
       "1                    NaN   slope5       128.0    4.0  Emissions|Kyoto Gases   \n",
       "2                    NaN   slope5         NaN    NaN                    NaN   \n",
       "3                    NaN  slope15       128.0    4.0  Emissions|Kyoto Gases   \n",
       "4                    NaN  slope15       128.0    4.0  Emissions|Kyoto Gases   \n",
       "5                    NaN  slope15         NaN    NaN                    NaN   \n",
       "6                    NaN  slope30       128.0    4.0  Emissions|Kyoto Gases   \n",
       "7                    NaN  slope30       128.0    4.0  Emissions|Kyoto Gases   \n",
       "8                    NaN  slope30         NaN    NaN                    NaN   \n",
       "\n",
       "      param  intercept        r2  temperature_score  temperature_results  \n",
       "0 -0.212692   2.574303  0.609039               1.87             0.000000  \n",
       "1 -0.212692   2.574303  0.609039               3.20             1.000000  \n",
       "2       NaN        NaN       NaN               3.19             0.994227  \n",
       "3 -0.312329   2.697261  0.829523               3.20             1.000000  \n",
       "4 -0.312329   2.697261  0.829523               3.20             1.000000  \n",
       "5       NaN        NaN       NaN               3.20             1.000000  \n",
       "6 -0.483331   2.841338  0.925768               3.20             1.000000  \n",
       "7 -0.483331   2.841338  0.925768               3.20             1.000000  \n",
       "8       NaN        NaN       NaN               3.20             1.000000  "
      ]
     },
     "execution_count": 31,
     "metadata": {},
     "output_type": "execute_result"
    }
   ],
   "source": [
    "#amended_portfolio[['company_name', 'time_frame', 'scope', 'temperature_score']].head(9)\n",
    "pd.set_option(\"display.max_columns\",None)\n",
    "\n",
    "amended_portfolio.head(9)"
   ]
  },
  {
   "cell_type": "code",
   "execution_count": null,
   "metadata": {},
   "outputs": [],
   "source": [
    "#Make a dictionary with id, time-frame and scope as key (in a tuple), and temperature as value\n",
    "reference_dict = {}\n",
    "\n",
    "for index, row in amended_portfolio.iterrows():\n",
    "    key = (row['company_id'], row['time_frame'].name, row['scope'].name)\n",
    "    value = row['temperature_score']\n",
    "    assert isinstance(value, float), f\"not a number {key}\"\n",
    "    reference_dict[key] = value"
   ]
  },
  {
   "cell_type": "code",
   "execution_count": null,
   "metadata": {},
   "outputs": [],
   "source": [
    "for i in range (len(amended_portfolio)):\n",
    "    if i < 10:\n",
    "        comp_id = amended_portfolio.loc[i]['company_id']\n",
    "        time_fr = amended_portfolio.loc[i]['time_frame']\n",
    "        scope = amended_portfolio.loc[i]['scope']\n",
    "        amended_portfolio.at[i]['temperature_results'] = 99.2\n",
    "    else:\n",
    "        break"
   ]
  },
  {
   "cell_type": "code",
   "execution_count": null,
   "metadata": {},
   "outputs": [],
   "source": [
    "amended_portfolio.head(9)"
   ]
  },
  {
   "cell_type": "code",
   "execution_count": null,
   "metadata": {},
   "outputs": [],
   "source": [
    "myrow = amended_portfolio[(amended_portfolio['company_id'] == 'AMDUS') & (amended_portfolio['time_frame'] == 'SHORT') & (amended_portfolio['scope'] == 'S1S2')]\n",
    "        "
   ]
  },
  {
   "cell_type": "code",
   "execution_count": null,
   "metadata": {},
   "outputs": [],
   "source": [
    "#print(myrow.at[0,'temperature_score'])\n",
    "myrow"
   ]
  },
  {
   "cell_type": "code",
   "execution_count": null,
   "metadata": {},
   "outputs": [],
   "source": [
    "i = 0\n",
    "for index, row in amended_portfolio.iterrows():\n",
    "    if i < 10:\n",
    "        key = (row['company_id'], row['time_frame'].name, row['scope'].name)\n",
    "        value = row['temperature_score']\n",
    "        amended_portfolio.loc[index, 'temperature_results'] = value + 5\n",
    "        print(key, value, row['temperature_results'])\n",
    "        i += 1\n",
    "        "
   ]
  },
  {
   "cell_type": "markdown",
   "metadata": {},
   "source": [
    "### Now read the file with service provider temperature scores\n",
    "Select the approriate separator (some instances of excel save with semicolons instead of commas)"
   ]
  },
  {
   "cell_type": "code",
   "execution_count": null,
   "metadata": {},
   "outputs": [],
   "source": [
    "#df_temps = pd.read_csv(\"data/BBG_validation/SP_temperature.csv\", sep=\";\", encoding=\"ascii\") #if the file has semicolons as separators\n",
    "df_temps = pd.read_csv(\"data/BBG_validation3/SP_temp5.csv\", encoding=\"iso-8859-1\") #default is commas"
   ]
  },
  {
   "cell_type": "markdown",
   "metadata": {},
   "source": [
    "### Check that the file looks OK"
   ]
  },
  {
   "cell_type": "code",
   "execution_count": null,
   "metadata": {},
   "outputs": [],
   "source": [
    "df_temps.head(9)"
   ]
  },
  {
   "cell_type": "markdown",
   "metadata": {},
   "source": [
    "### Make a dictionary with service providers temperatures"
   ]
  },
  {
   "cell_type": "code",
   "execution_count": null,
   "metadata": {},
   "outputs": [],
   "source": [
    "SP_temperature_dict = {}\n",
    "\n",
    "for index, row in df_temps.iterrows():\n",
    "    scope = row['scope']\n",
    "    #sometimes the way the scope is expressed is different, so change it to the standard form\n",
    "    if scope == 'S12':\n",
    "        scope = 'S1S2'\n",
    "    elif scope == \"S123\":\n",
    "        scope = 'S1S2S3'\n",
    "    key = (row['company_id'], row['time_frame'], scope)\n",
    "    value = row['temperature_score']\n",
    "    assert isinstance(value, float), f\"not a number {key}\"\n",
    "    SP_temperature_dict[key] = value\n",
    "    \n",
    "#only print using small test files if something has gone wrong   \n",
    "#print(SP_temperature_dict)    "
   ]
  },
  {
   "cell_type": "markdown",
   "metadata": {},
   "source": [
    "### Now add the SP temperature to the reference temperature in a list for each key"
   ]
  },
  {
   "cell_type": "code",
   "execution_count": null,
   "metadata": {},
   "outputs": [],
   "source": [
    "for key, value in reference_dict.items():\n",
    "    if key in SP_temperature_dict:\n",
    "        reference_dict[key] = [value, SP_temperature_dict[key]]\n",
    "    else:\n",
    "        reference_dict[key] = \"pass\"\n",
    "\n",
    "#print(reference_dict)\n",
    "    "
   ]
  },
  {
   "cell_type": "markdown",
   "metadata": {},
   "source": [
    "## Calculate temperature differences\n",
    "\n",
    "The next cell calculates the differences in temperature scores from the two sources.\n",
    "The user can set a threshold value for reported differences, this threshold is some number 0 to x. Default is 0.2 degrees. \n"
   ]
  },
  {
   "cell_type": "code",
   "execution_count": null,
   "metadata": {},
   "outputs": [],
   "source": [
    "#set the threshold value\n",
    "allowed_temp_diff = 0.2"
   ]
  },
  {
   "cell_type": "code",
   "execution_count": null,
   "metadata": {},
   "outputs": [],
   "source": [
    "for key, value in reference_dict.items():\n",
    "    print(key)\n",
    "    print(round(abs(value[0] - value[1]),2))"
   ]
  },
  {
   "cell_type": "code",
   "execution_count": null,
   "metadata": {},
   "outputs": [],
   "source": [
    "\n",
    "temp_miss = {} #Empty dict to store reported deviances\n",
    "num_pass = 0 # store the number of cases where SP temp is missing\n",
    "num_temps = 0 # store the number of temperatures we look at\n",
    "sum_diff = 0.0 # store the sum of deviations so we can do some calculations later\n",
    "\n",
    "for key, value in reference_dict.items():\n",
    "    num_temps += 1\n",
    "    if value != 'pass':\n",
    "        diff = abs(value[0] - value[1])\n",
    "        sum_diff += diff\n",
    "    else:\n",
    "        num_pass += 1\n",
    "    if diff > allowed_temp_diff:\n",
    "        temp_miss[key] = value\n",
    "print(f'The number of temperatures is {num_temps} and the average deviation is {round(sum_diff/num_temps, 2)} degrees.')\n",
    "print(f'The number of cases where temperatures deviate more than {allowed_temp_diff} degrees is {len(temp_miss)}')\n",
    "print(f'The number of temperatures where there is no SP temperature is {num_pass}.')            "
   ]
  },
  {
   "cell_type": "code",
   "execution_count": null,
   "metadata": {},
   "outputs": [],
   "source": [
    "len(temp_miss)"
   ]
  },
  {
   "cell_type": "markdown",
   "metadata": {},
   "source": [
    "### Make a dataframe from the temperature difference and export to a csv file"
   ]
  },
  {
   "cell_type": "code",
   "execution_count": null,
   "metadata": {},
   "outputs": [],
   "source": [
    "df_output = pd.DataFrame.from_dict(temp_miss, orient = 'index', columns = ['ref temp', 'SP temp'])"
   ]
  },
  {
   "cell_type": "code",
   "execution_count": null,
   "metadata": {},
   "outputs": [],
   "source": [
    "df_output.to_csv(\"data/BBG_validation3/temp_compare.csv\")"
   ]
  },
  {
   "cell_type": "code",
   "execution_count": null,
   "metadata": {},
   "outputs": [],
   "source": [
    "df_output = pd.DataFrame.from_dict(reference_dict, orient = 'index', columns = ['ref temp', 'SP temp'])"
   ]
  },
  {
   "cell_type": "code",
   "execution_count": null,
   "metadata": {},
   "outputs": [],
   "source": [
    "my_port = amended_portfolio.set_index([('company_id', 'time_frame', 'scope')])"
   ]
  },
  {
   "cell_type": "code",
   "execution_count": null,
   "metadata": {},
   "outputs": [],
   "source": [
    "lll = list(my_port.index.values)"
   ]
  },
  {
   "cell_type": "code",
   "execution_count": null,
   "metadata": {},
   "outputs": [],
   "source": [
    "my_port.head()"
   ]
  },
  {
   "cell_type": "code",
   "execution_count": null,
   "metadata": {},
   "outputs": [],
   "source": [
    "diff_index = []\n",
    "for i in lll:\n",
    "    new_index = (i[0], i[1].name, i[1].name)\n",
    "    diff_index.append(new_index)"
   ]
  },
  {
   "cell_type": "code",
   "execution_count": null,
   "metadata": {},
   "outputs": [],
   "source": [
    "full_diff = {}\n",
    "x = 0\n",
    "for key in diff_index:\n",
    "    if key in my_port:\n",
    "        x += 1\n",
    "print(x)"
   ]
  },
  {
   "cell_type": "code",
   "execution_count": null,
   "metadata": {},
   "outputs": [],
   "source": [
    "diff_dict = {}\n",
    "for i in range(len(my_port)):\n",
    "    name = my_port.index[i][0]\n",
    "    timeframe = my_port.index[0][1].name\n",
    "    scope = my_port.index[0][2].name\n",
    "    diff_dict[(name, timeframe,scope)] = list(my_port.iloc[i][0:43])"
   ]
  },
  {
   "cell_type": "code",
   "execution_count": null,
   "metadata": {},
   "outputs": [],
   "source": [
    "diff_with_targets = {}\n",
    "for key, value in temp_miss.items():\n",
    "    if key in diff_dict:\n",
    "        diff_with_targets[key] = (value, diff_dict[key])\n",
    "        "
   ]
  },
  {
   "cell_type": "code",
   "execution_count": null,
   "metadata": {},
   "outputs": [],
   "source": [
    "len(diff_with_targets)"
   ]
  },
  {
   "cell_type": "code",
   "execution_count": null,
   "metadata": {},
   "outputs": [],
   "source": [
    "df_diff_with_targets = pd.DataFrame.from_dict(diff_with_targets, orient='index')"
   ]
  },
  {
   "cell_type": "code",
   "execution_count": null,
   "metadata": {},
   "outputs": [],
   "source": [
    "df_diff_with_targets.to_csv(\"data/BBG_validation3/temp_compare_targets.csv\")"
   ]
  }
 ],
 "metadata": {
  "kernelspec": {
   "display_name": "Python 3",
   "language": "python",
   "name": "python3"
  },
  "language_info": {
   "codemirror_mode": {
    "name": "ipython",
    "version": 3
   },
   "file_extension": ".py",
   "mimetype": "text/x-python",
   "name": "python",
   "nbconvert_exporter": "python",
   "pygments_lexer": "ipython3",
   "version": "3.8.10"
  },
  "pycharm": {
   "stem_cell": {
    "cell_type": "raw",
    "metadata": {
     "collapsed": false
    },
    "source": []
   }
  },
  "vscode": {
   "interpreter": {
    "hash": "31f2aee4e71d21fbe5cf8b01ff0e069b9275f58929596ceb00d14d90e3e16cd6"
   }
  }
 },
 "nbformat": 4,
 "nbformat_minor": 4
}
